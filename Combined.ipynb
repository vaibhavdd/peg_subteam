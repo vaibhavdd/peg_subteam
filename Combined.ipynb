{
 "cells": [
  {
   "cell_type": "code",
   "execution_count": 1,
   "id": "500478dc",
   "metadata": {},
   "outputs": [],
   "source": [
    "import pandas as pd\n",
    "import numpy as np\n",
    "import re"
   ]
  },
  {
   "cell_type": "markdown",
   "id": "c763d1b5",
   "metadata": {},
   "source": [
    "Hundred characters"
   ]
  },
  {
   "cell_type": "code",
   "execution_count": 3,
   "id": "174c4761",
   "metadata": {},
   "outputs": [],
   "source": [
    "def hundred_chars(lines):\n",
    "    for count, i in enumerate(lines):\n",
    "        cnt = 0\n",
    "        for j in i:\n",
    "            if j != ' ':\n",
    "                cnt=cnt+1\n",
    "        if cnt>100:\n",
    "            print(\"Lines of SQL should be no longer than ~100 characters. Please use new line.\\nLine no. {}\\n{}\".format(count+1,i))\n"
   ]
  },
  {
   "cell_type": "code",
   "execution_count": null,
   "id": "6d7e79ff",
   "metadata": {},
   "outputs": [],
   "source": []
  }
 ],
 "metadata": {
  "kernelspec": {
   "display_name": "Python 3 (ipykernel)",
   "language": "python",
   "name": "python3"
  },
  "language_info": {
   "codemirror_mode": {
    "name": "ipython",
    "version": 3
   },
   "file_extension": ".py",
   "mimetype": "text/x-python",
   "name": "python",
   "nbconvert_exporter": "python",
   "pygments_lexer": "ipython3",
   "version": "3.9.12"
  }
 },
 "nbformat": 4,
 "nbformat_minor": 5
}
