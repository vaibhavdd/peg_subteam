{
 "cells": [
  {
   "cell_type": "code",
   "execution_count": 1,
   "id": "500478dc",
   "metadata": {},
   "outputs": [],
   "source": [
    "import pandas as pd\n",
    "import numpy as np\n",
    "import re"
   ]
  },
  {
   "cell_type": "code",
   "execution_count": 8,
   "id": "fc6d114f",
   "metadata": {},
   "outputs": [],
   "source": [
    "with open('dim_customer.sql') as f:\n",
    "    lines = f.readlines()\n",
    "    f.seek(0)\n",
    "    text = f.read()"
   ]
  },
  {
   "cell_type": "markdown",
   "id": "c763d1b5",
   "metadata": {},
   "source": [
    "Hundred characters"
   ]
  },
  {
   "cell_type": "code",
   "execution_count": 3,
   "id": "174c4761",
   "metadata": {},
   "outputs": [],
   "source": [
    "def hundred_chars(lines):\n",
    "    print('Lines of SQL should be no longer than ~100 characters. Please use new line:')\n",
    "    for count, i in enumerate(lines):\n",
    "        cnt = 0\n",
    "        for j in i:\n",
    "            if j != ' ':\n",
    "                cnt=cnt+1\n",
    "        if cnt>100:\n",
    "            print(\"\\nLine no. {}\\n{}\".format(count+1,i.strip()))\n",
    "    print('\\n--------------------------------\\n')"
   ]
  },
  {
   "cell_type": "markdown",
   "id": "f4b41e03",
   "metadata": {},
   "source": [
    "Comma at the end of the line"
   ]
  },
  {
   "cell_type": "code",
   "execution_count": 4,
   "id": "ed92621e",
   "metadata": {},
   "outputs": [],
   "source": [
    "def comma_at_end(lines):\n",
    "    lines_sign = []\n",
    "    print(\"For following lines comma is present at start of the line: \\n\")\n",
    "    for count, i in enumerate(lines):\n",
    "        if i.lstrip() != '':  \n",
    "            if i.lstrip()[0].__contains__(\",\"):\n",
    "                lines_sign.append([count,i])\n",
    "                print('Line no. {}\\n{}'.format(count,i.strip()))\n",
    "    print('\\n--------------------------------\\n')"
   ]
  },
  {
   "cell_type": "markdown",
   "id": "154eef7c",
   "metadata": {},
   "source": [
    "Inner Join instead of Join keyword "
   ]
  },
  {
   "cell_type": "code",
   "execution_count": 5,
   "id": "a8faf3e8",
   "metadata": {},
   "outputs": [],
   "source": [
    "def inner_join_keyword(lines):\n",
    "    lines_join = []\n",
    "    print('Inner keyword not present before join in following lines:\\n')\n",
    "    for count, i in enumerate(lines):\n",
    "        if i.__contains__(\"join\"):\n",
    "            lines_join.append([count,i])\n",
    "\n",
    "    lines_after_join = []\n",
    "    flag = 0\n",
    "    for count, i in enumerate(lines):\n",
    "        if flag == 1:\n",
    "            flag = 0\n",
    "            lines_after_join.append([count, i])\n",
    "        if i.__contains__(\"join\"):\n",
    "            flag = 1\n",
    "\n",
    "    join_ls = ['inner', 'left', 'outer', 'right']\n",
    "    for count, i in enumerate(lines_join):\n",
    "        flag = 0\n",
    "        for k in join_ls:\n",
    "            if flag == 0:\n",
    "                if k in i[1]:\n",
    "                    flag = 1\n",
    "        if flag ==0:\n",
    "            print(\"Line no. {}\\n{}\".format(i[0]+1,i[1].strip()))\n",
    "    print('\\n--------------------------------\\n')\n",
    "    print(\"Use 'On' instead of 'Using' in following lines:\\n\")\n",
    "    for count, i in enumerate(lines_after_join):\n",
    "        if ' using' in i[1]:\n",
    "            print(f\"Line no. {i[0]+1}\\n{i[1].strip()}\")\n",
    "    print('\\n--------------------------------\\n')"
   ]
  },
  {
   "cell_type": "markdown",
   "id": "8954953b",
   "metadata": {},
   "source": [
    "Not equals as !="
   ]
  },
  {
   "cell_type": "code",
   "execution_count": 6,
   "id": "c0553f22",
   "metadata": {},
   "outputs": [],
   "source": [
    "def not_equals_sign(lines):\n",
    "    print('Use != instead of <> in following lines: \\n')\n",
    "    lines_sign = []\n",
    "    for count, i in enumerate(lines):\n",
    "        if i.__contains__(\"<>\"):\n",
    "            lines_sign.append([count,i])\n",
    "    for count, i in enumerate(lines_sign):\n",
    "        print(\"Line no. {}\\n{}\".format(i[0]+1,i[1].strip()))\n",
    "    print('\\n--------------------------------\\n')"
   ]
  },
  {
   "cell_type": "markdown",
   "id": "92d0d0bb",
   "metadata": {},
   "source": [
    "Check snake casing"
   ]
  },
  {
   "cell_type": "code",
   "execution_count": 1,
   "id": "09003e5d",
   "metadata": {},
   "outputs": [],
   "source": [
    "def snake_casing(lines):\n",
    "    lines_uppercase = []\n",
    "    flag=0\n",
    "    reg = '[A-Za-z]+.'\n",
    "    print('Following lines contain uppercase characters:\\n')\n",
    "    for count, i in enumerate(lines):\n",
    "        if i.islower()==False and i!='\\n':\n",
    "            x=i.split(\"'\")\n",
    "            for cnt,j in enumerate(x):\n",
    "                if re.search(reg, j):\n",
    "                    if cnt%2 ==0 and j.islower()==False and j!='\\n':\n",
    "                        flag=1\n",
    "                        lines_uppercase.append([count+1,i])\n",
    "                        print('Line no. {}:\\n{}'.format(count+1,i.strip()))\n",
    "    print('\\n--------------------------------\\n')"
   ]
  },
  {
   "cell_type": "markdown",
   "id": "38b8284a",
   "metadata": {},
   "source": [
    "### CTE PADDING"
   ]
  },
  {
   "cell_type": "code",
   "execution_count": 4,
   "id": "5320b043",
   "metadata": {},
   "outputs": [],
   "source": [
    "def cte_padding(lines):\n",
    "    lines_with_cte = []\n",
    "    for count, i in enumerate(lines):\n",
    "        if i.__contains__(\"with\") or i.__contains__(\"as (\"):\n",
    "            lines_with_cte.append([count,i])\n",
    "    reg = r'\\s*\\W\\n'\n",
    "    for i in lines_with_cte:\n",
    "        if lines[i[0]+1].strip() != '':\n",
    "            print(\"Padding absent after line no {} line - {}\".format(i[0]+1,lines[i[0]]))\n",
    "        if lines[i[0]-1].strip() != '':\n",
    "            print(\"Padding absent before line no {} line - {}\".format(i[0]+1,lines[i[0]]))\n",
    "        if lines[i[0]+1].lstrip() == '' and lines[i[0]+2].lstrip() == '':\n",
    "            print(\"Extra padding present after line no {} line - {}\".format(i[0]+1,lines[i[0]]))\n",
    "        if lines[i[0]-1].strip() == '' and lines[i[0]-2].strip() == '':\n",
    "            print(\"Extra padding present before line no {} line - {}\".format(i[0]+1,lines[i[0]]))\n",
    "    lines_select = []\n",
    "    for count, i in enumerate(lines):\n",
    "        if i.__contains__(\"select\") and not i.__contains__(\"select * from\"):\n",
    "            lines_select.append([count,i])\n",
    "    reg = r'\\s*\\W\\n'\n",
    "    for i in lines_select:\n",
    "        if lines[i[0]+1].strip() == '':\n",
    "            print(\"Padding present after line no {} line - {}\".format(i[0]+1,lines[i[0]]))\n",
    "        if lines[i[0]-1].strip() == '' and lines[i[0]-2].strip() == '':\n",
    "            print(\"Extra padding present before line no {} line - {}\".format(i[0]+1,lines[i[0]]))"
   ]
  },
  {
   "cell_type": "markdown",
   "id": "d72df7f9",
   "metadata": {},
   "source": [
    "### CTE Alignment"
   ]
  },
  {
   "cell_type": "code",
   "execution_count": 11,
   "id": "488856d7",
   "metadata": {},
   "outputs": [],
   "source": [
    "def cte_alignment(text):\n",
    "    def find_parens(s):\n",
    "        toret = {}\n",
    "        pstack = []\n",
    "\n",
    "        for i, c in enumerate(s):\n",
    "            if c == '(':\n",
    "                pstack.append(i)\n",
    "            elif c == ')':\n",
    "                toret[pstack.pop()] = i\n",
    "        return toret\n",
    "    bracket_dict = find_parens(text)\n",
    "    opening_bracks = list(bracket_dict.keys())\n",
    "    closing_bracks = list(bracket_dict.values())\n",
    "    cte_dict = {}\n",
    "    for i in bracket_dict.keys():\n",
    "        if text[i-4:i] == ' as ':\n",
    "            cte_dict[i] = bracket_dict[i]\n",
    "    for start_brack in cte_dict.keys():\n",
    "        k = start_brack\n",
    "        while text[k] != '\\n':\n",
    "            k=k-1\n",
    "        cte_name = text[k:start_brack]\n",
    "        if cte_name[1] == ' ':\n",
    "            new_line_count = 0\n",
    "            for i in text[:start_brack]:\n",
    "                if i=='\\n':\n",
    "                    new_line_count+=1\n",
    "            print('CTE Alignment incorrect for on line no. {}'.format(new_line_count+1))\n",
    "        end_brack = cte_dict[start_brack]\n",
    "        if text[end_brack-1] != '\\n':\n",
    "            new_line_count = 0\n",
    "            for i in text[:end_brack]:\n",
    "                if i=='\\n':\n",
    "                    new_line_count+=1\n",
    "            print('CTE Alignment incorrect for on line no. {}'.format(new_line_count+1))\n"
   ]
  },
  {
   "cell_type": "code",
   "execution_count": 8,
   "id": "f364f335",
   "metadata": {},
   "outputs": [
    {
     "name": "stdout",
     "output_type": "stream",
     "text": [
      "Lines of SQL should be no longer than ~100 characters. Please use new line.\n",
      "\n",
      "Line no. 70\n",
      "qualify dense_rank() over ( partition by coalesce(salesforce_account_id, legacy_mindbody_sfdc_account_id, legacy_booker_sfdc_account_id)\n",
      "\n",
      "Line no. 88\n",
      "on dim_mindbody_legacy.legacy_mindbody_sfdc_account_id = core_software_subscription.legacy_mindbody_sfdc_account_id\n",
      "\n",
      "Line no. 107\n",
      "on dim_booker_legacy.legacy_booker_sfdc_account_id = core_software_subscription.legacy_booker_sfdc_account_id\n",
      "\n",
      "Line no. 119\n",
      "iff(core_software_subscription.platform='Mindbody', coalesce(to_varchar(dim_customer_mindbody_map.aria_id), dim_customer_mindbody_map.zuora_id), null)\n",
      "\n",
      "Line no. 166\n",
      "using dim_customer_mindbody_map.legacy_mindbody_sfdc_account_id = dim_mindbody_legacy.legacy_mindbody_sfdc_account_id\n",
      "\n",
      "Line no. 186\n",
      "on dim_customer_mindbody_map.legacy_mindbody_sfdc_account_id = mindbody_legacy.legacy_mindbody_sfdc_account_id\n",
      "\n",
      "Line no. 193\n",
      "{{dbt_utils.surrogate_key(['platform','coalesce(mindbody_studio_id::varchar,product_instance_id::varchar)','mindbody_location_id']) }}\n",
      "\n",
      "--------------------------------\n",
      "\n",
      "For following lines comma is present at start of the line \n",
      "\n",
      "Line no. 124\n",
      ",product_instance_id,null)                                   as booker_location_id,\n",
      "Line no. 126\n",
      ",core_software_subscription.subscription_id                          as subscription_id\n",
      "Line no. 127\n",
      ",account.salesforce_account_name                                     as customer_name,\n",
      "\n",
      "--------------------------------\n",
      "\n",
      "Inner keyword not present before join in following lines:\n",
      "\n",
      "Line no. 85\n",
      "join account\n",
      "Line no. 87\n",
      "join core_software_subscription\n",
      "Line no. 104\n",
      "join account\n",
      "\n",
      "--------------------------------\n",
      "\n",
      "Use 'On' instead of 'Using' in following lines:\n",
      "\n",
      "Line no. 166\n",
      "using dim_customer_mindbody_map.legacy_mindbody_sfdc_account_id = dim_mindbody_legacy.legacy_mindbody_sfdc_account_id\n",
      "\n",
      "--------------------------------\n",
      "\n",
      "Use != instead of <> in following lines: \n",
      "\n",
      "Line no. 173\n",
      "on account.salesforce_account_id <> account_classification.account_id\n",
      "\n",
      "--------------------------------\n",
      "\n",
      "Following lines contain uppercase characters:\n",
      "\n",
      "Line no. 115:\n",
      "sElect\n",
      "Line no. 121:\n",
      "Dim_customer_mindbody_map.aria_id                                   as aria_id,\n",
      "Line no. 258:\n",
      "From customers\n",
      "Line no. 335:\n",
      "Union all\n",
      "\n",
      "--------------------------------\n",
      "\n"
     ]
    }
   ],
   "source": [
    "hundred_chars(lines)\n",
    "comma_at_end(lines)\n",
    "inner_join_keyword(lines)\n",
    "not_equals_sign(lines)\n",
    "snake_casing(lines)\n",
    "cte_padding(lines)\n",
    "cte_alignment(text)"
   ]
  },
  {
   "cell_type": "code",
   "execution_count": 12,
   "id": "2a123c0c",
   "metadata": {},
   "outputs": [
    {
     "name": "stdout",
     "output_type": "stream",
     "text": [
      "CTE Alignment incorrect for on line no. 19\n",
      "CTE Alignment incorrect for on line no. 21\n",
      "CTE Alignment incorrect for on line no. 30\n",
      "CTE Alignment incorrect for on line no. 32\n",
      "CTE Alignment incorrect for on line no. 41\n"
     ]
    }
   ],
   "source": [
    "7 rules - combined"
   ]
  },
  {
   "cell_type": "code",
   "execution_count": null,
   "id": "6eb7dc7c",
   "metadata": {},
   "outputs": [],
   "source": []
  },
  {
   "cell_type": "code",
   "execution_count": null,
   "id": "5438d6d8",
   "metadata": {},
   "outputs": [],
   "source": []
  }
 ],
 "metadata": {
  "kernelspec": {
   "display_name": "Python 3 (ipykernel)",
   "language": "python",
   "name": "python3"
  },
  "language_info": {
   "codemirror_mode": {
    "name": "ipython",
    "version": 3
   },
   "file_extension": ".py",
   "mimetype": "text/x-python",
   "name": "python",
   "nbconvert_exporter": "python",
   "pygments_lexer": "ipython3",
   "version": "3.9.7"
  }
 },
 "nbformat": 4,
 "nbformat_minor": 5
}
