{
 "cells": [
  {
   "cell_type": "code",
   "execution_count": 1,
   "id": "500478dc",
   "metadata": {},
   "outputs": [],
   "source": [
    "import pandas as pd\n",
    "import numpy as np\n",
    "import re"
   ]
  },
  {
   "cell_type": "code",
   "execution_count": 2,
   "id": "fc6d114f",
   "metadata": {},
   "outputs": [],
   "source": [
    "with open('dim_customer.sql') as f:\n",
    "    lines = f.readlines()"
   ]
  },
  {
   "cell_type": "markdown",
   "id": "c763d1b5",
   "metadata": {},
   "source": [
    "Hundred characters"
   ]
  },
  {
   "cell_type": "code",
   "execution_count": 3,
   "id": "174c4761",
   "metadata": {},
   "outputs": [],
   "source": [
    "def hundred_chars(lines):\n",
    "    print('Lines of SQL should be no longer than ~100 characters. Please use new line:')\n",
    "    for count, i in enumerate(lines):\n",
    "        cnt = 0\n",
    "        for j in i:\n",
    "            if j != ' ':\n",
    "                cnt=cnt+1\n",
    "        if cnt>100:\n",
    "            print(\"\\nLine no. {}\\n{}\".format(count+1,i.strip()))\n",
    "    print('\\n--------------------------------\\n')"
   ]
  },
  {
   "cell_type": "markdown",
   "id": "f4b41e03",
   "metadata": {},
   "source": [
    "Comma at the end of the line"
   ]
  },
  {
   "cell_type": "code",
   "execution_count": 4,
   "id": "ed92621e",
   "metadata": {},
   "outputs": [],
   "source": [
    "def comma_at_end(lines):\n",
    "    lines_sign = []\n",
    "    print(\"For following lines comma is present at start of the line: \\n\")\n",
    "    for count, i in enumerate(lines):\n",
    "        if i.lstrip() != '':  \n",
    "            if i.lstrip()[0].__contains__(\",\"):\n",
    "                lines_sign.append([count,i])\n",
    "                print('Line no. {}\\n{}'.format(count,i.strip()))\n",
    "    print('\\n--------------------------------\\n')"
   ]
  },
  {
   "cell_type": "markdown",
   "id": "154eef7c",
   "metadata": {},
   "source": [
    "Inner Join instead of Join keyword "
   ]
  },
  {
   "cell_type": "code",
   "execution_count": 5,
   "id": "a8faf3e8",
   "metadata": {},
   "outputs": [],
   "source": [
    "def inner_join_keyword(lines):\n",
    "    lines_join = []\n",
    "    print('Inner keyword not present before join in following lines:\\n')\n",
    "    for count, i in enumerate(lines):\n",
    "        if i.__contains__(\"join\"):\n",
    "            lines_join.append([count,i])\n",
    "\n",
    "    lines_after_join = []\n",
    "    flag = 0\n",
    "    for count, i in enumerate(lines):\n",
    "        if flag == 1:\n",
    "            flag = 0\n",
    "            lines_after_join.append([count, i])\n",
    "        if i.__contains__(\"join\"):\n",
    "            flag = 1\n",
    "\n",
    "    join_ls = ['inner', 'left', 'outer', 'right']\n",
    "    for count, i in enumerate(lines_join):\n",
    "        flag = 0\n",
    "        for k in join_ls:\n",
    "            if flag == 0:\n",
    "                if k in i[1]:\n",
    "                    flag = 1\n",
    "        if flag ==0:\n",
    "            print(\"Line no. {}\\n{}\".format(i[0]+1,i[1].strip()))\n",
    "    print('\\n--------------------------------\\n')\n",
    "    print(\"Use 'On' instead of 'Using' in following lines:\\n\")\n",
    "    for count, i in enumerate(lines_after_join):\n",
    "        if ' using' in i[1]:\n",
    "            print(f\"Line no. {i[0]+1}\\n{i[1].strip()}\")\n",
    "    print('\\n--------------------------------\\n')"
   ]
  },
  {
   "cell_type": "markdown",
   "id": "8954953b",
   "metadata": {},
   "source": [
    "Not equals as !="
   ]
  },
  {
   "cell_type": "code",
   "execution_count": 6,
   "id": "c0553f22",
   "metadata": {},
   "outputs": [],
   "source": [
    "def not_equals_sign(lines):\n",
    "    print('Use != instead of <> in following lines: \\n')\n",
    "    lines_sign = []\n",
    "    for count, i in enumerate(lines):\n",
    "        if i.__contains__(\"<>\"):\n",
    "            lines_sign.append([count,i])\n",
    "    for count, i in enumerate(lines_sign):\n",
    "        print(\"Line no. {}\\n{}\".format(i[0]+1,i[1].strip()))\n",
    "    print('\\n--------------------------------\\n')"
   ]
  },
  {
   "cell_type": "markdown",
   "id": "92d0d0bb",
   "metadata": {},
   "source": [
    "Check snake casing"
   ]
  },
  {
   "cell_type": "code",
   "execution_count": 7,
   "id": "09003e5d",
   "metadata": {},
   "outputs": [],
   "source": [
    "def snake_casing(lines):\n",
    "    lines_uppercase = []\n",
    "    flag=0\n",
    "    reg = '[A-Za-z]+.'\n",
    "    print('Following lines contain uppercase characters:\\n')\n",
    "    for count, i in enumerate(lines):\n",
    "        if i.islower()==False and i!='\\n':\n",
    "            x=i.split(\"'\")\n",
    "            for cnt,j in enumerate(x):\n",
    "                if re.search(reg, j):\n",
    "                    if cnt%2 ==0 and j.islower()==False and j!='\\n':\n",
    "                        flag=1\n",
    "                        lines_uppercase.append([count+1,i])\n",
    "                        print('Line no. {}:\\n{}'.format(count+1,i.strip()))\n",
    "    print('\\n--------------------------------\\n')"
   ]
  },
  {
   "cell_type": "code",
   "execution_count": 8,
   "id": "f364f335",
   "metadata": {},
   "outputs": [
    {
     "name": "stdout",
     "output_type": "stream",
     "text": [
      "Lines of SQL should be no longer than ~100 characters. Please use new line.\n",
      "\n",
      "Line no. 70\n",
      "qualify dense_rank() over ( partition by coalesce(salesforce_account_id, legacy_mindbody_sfdc_account_id, legacy_booker_sfdc_account_id)\n",
      "\n",
      "Line no. 88\n",
      "on dim_mindbody_legacy.legacy_mindbody_sfdc_account_id = core_software_subscription.legacy_mindbody_sfdc_account_id\n",
      "\n",
      "Line no. 107\n",
      "on dim_booker_legacy.legacy_booker_sfdc_account_id = core_software_subscription.legacy_booker_sfdc_account_id\n",
      "\n",
      "Line no. 119\n",
      "iff(core_software_subscription.platform='Mindbody', coalesce(to_varchar(dim_customer_mindbody_map.aria_id), dim_customer_mindbody_map.zuora_id), null)\n",
      "\n",
      "Line no. 166\n",
      "using dim_customer_mindbody_map.legacy_mindbody_sfdc_account_id = dim_mindbody_legacy.legacy_mindbody_sfdc_account_id\n",
      "\n",
      "Line no. 186\n",
      "on dim_customer_mindbody_map.legacy_mindbody_sfdc_account_id = mindbody_legacy.legacy_mindbody_sfdc_account_id\n",
      "\n",
      "Line no. 193\n",
      "{{dbt_utils.surrogate_key(['platform','coalesce(mindbody_studio_id::varchar,product_instance_id::varchar)','mindbody_location_id']) }}\n",
      "\n",
      "--------------------------------\n",
      "\n",
      "For following lines comma is present at start of the line \n",
      "\n",
      "Line no. 124\n",
      ",product_instance_id,null)                                   as booker_location_id,\n",
      "Line no. 126\n",
      ",core_software_subscription.subscription_id                          as subscription_id\n",
      "Line no. 127\n",
      ",account.salesforce_account_name                                     as customer_name,\n",
      "\n",
      "--------------------------------\n",
      "\n",
      "Inner keyword not present before join in following lines:\n",
      "\n",
      "Line no. 85\n",
      "join account\n",
      "Line no. 87\n",
      "join core_software_subscription\n",
      "Line no. 104\n",
      "join account\n",
      "\n",
      "--------------------------------\n",
      "\n",
      "Use 'On' instead of 'Using' in following lines:\n",
      "\n",
      "Line no. 166\n",
      "using dim_customer_mindbody_map.legacy_mindbody_sfdc_account_id = dim_mindbody_legacy.legacy_mindbody_sfdc_account_id\n",
      "\n",
      "--------------------------------\n",
      "\n",
      "Use != instead of <> in following lines: \n",
      "\n",
      "Line no. 173\n",
      "on account.salesforce_account_id <> account_classification.account_id\n",
      "\n",
      "--------------------------------\n",
      "\n",
      "Following lines contain uppercase characters:\n",
      "\n",
      "Line no. 115:\n",
      "sElect\n",
      "Line no. 121:\n",
      "Dim_customer_mindbody_map.aria_id                                   as aria_id,\n",
      "Line no. 258:\n",
      "From customers\n",
      "Line no. 335:\n",
      "Union all\n",
      "\n",
      "--------------------------------\n",
      "\n"
     ]
    }
   ],
   "source": [
    "hundred_chars(lines)\n",
    "comma_at_end(lines)\n",
    "inner_join_keyword(lines)\n",
    "not_equals_sign(lines)\n",
    "snake_casing(lines)"
   ]
  },
  {
   "cell_type": "code",
   "execution_count": null,
   "id": "2a123c0c",
   "metadata": {},
   "outputs": [],
   "source": []
  },
  {
   "cell_type": "code",
   "execution_count": null,
   "id": "6eb7dc7c",
   "metadata": {},
   "outputs": [],
   "source": []
  }
 ],
 "metadata": {
  "kernelspec": {
   "display_name": "Python 3 (ipykernel)",
   "language": "python",
   "name": "python3"
  },
  "language_info": {
   "codemirror_mode": {
    "name": "ipython",
    "version": 3
   },
   "file_extension": ".py",
   "mimetype": "text/x-python",
   "name": "python",
   "nbconvert_exporter": "python",
   "pygments_lexer": "ipython3",
   "version": "3.9.12"
  }
 },
 "nbformat": 4,
 "nbformat_minor": 5
}
