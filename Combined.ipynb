{
 "cells": [
  {
   "cell_type": "code",
   "execution_count": 1,
   "id": "500478dc",
   "metadata": {},
   "outputs": [],
   "source": [
    "import pandas as pd\n",
    "import numpy as np\n",
    "import re"
   ]
  },
  {
   "cell_type": "code",
   "execution_count": 2,
   "id": "fc6d114f",
   "metadata": {},
   "outputs": [],
   "source": [
    "with open('fact_dbne_booker.sql') as f:\n",
    "    lines = f.readlines()\n",
    "    f.seek(0)\n",
    "    text = f.read()"
   ]
  },
  {
   "cell_type": "markdown",
   "id": "c763d1b5",
   "metadata": {},
   "source": [
    "### Hundred characters"
   ]
  },
  {
   "cell_type": "code",
   "execution_count": 3,
   "id": "174c4761",
   "metadata": {},
   "outputs": [],
   "source": [
    "def hundred_chars(lines):\n",
    "#     print('Lines of SQL should be no longer than ~100 characters. Please use new line:')\n",
    "    err_flag = 0\n",
    "    for count, i in enumerate(lines):\n",
    "        cnt = 0\n",
    "        for j in i:\n",
    "            if j != ' ':\n",
    "                cnt=cnt+1\n",
    "        if cnt>100:\n",
    "            err_flag = 1\n",
    "            print(\"\\nLine no. {} contains more than 100 characters:\\n{}\".format(count+1,i.strip()))\n",
    "    if err_flag == 1:\n",
    "        print('\\n--------------------------------\\n')"
   ]
  },
  {
   "cell_type": "markdown",
   "id": "f4b41e03",
   "metadata": {},
   "source": [
    "### Comma at the end of the line"
   ]
  },
  {
   "cell_type": "code",
   "execution_count": 4,
   "id": "ed92621e",
   "metadata": {},
   "outputs": [],
   "source": [
    "def comma_at_end(lines):\n",
    "    lines_sign = []\n",
    "    err_flag = 0\n",
    "#     print(\"For following lines comma is present at start of the line: \\n\")\n",
    "    for count, i in enumerate(lines):\n",
    "        if i.lstrip() != '':  \n",
    "            if i.lstrip()[0].__contains__(\",\"):\n",
    "                lines_sign.append([count,i])\n",
    "                err_flag = 1\n",
    "                print('Line no. {} contains comma at start of the line: \\n{}'.format(count,i.strip()))\n",
    "    if err_flag == 1:\n",
    "        print('\\n--------------------------------\\n')"
   ]
  },
  {
   "cell_type": "markdown",
   "id": "154eef7c",
   "metadata": {},
   "source": [
    "### Inner Join instead of Join keyword "
   ]
  },
  {
   "cell_type": "code",
   "execution_count": 5,
   "id": "a8faf3e8",
   "metadata": {},
   "outputs": [],
   "source": [
    "def inner_join_keyword(lines):\n",
    "    lines_join = []\n",
    "    err_flag_inner = 0\n",
    "    err_flag_on = 0\n",
    "#     print('Inner keyword not present before join in following lines:\\n')\n",
    "    for count, i in enumerate(lines):\n",
    "        if i.__contains__(\"join\"):\n",
    "            lines_join.append([count,i])\n",
    "\n",
    "    lines_after_join = []\n",
    "    flag = 0\n",
    "    for count, i in enumerate(lines):\n",
    "        if flag == 1:\n",
    "            flag = 0\n",
    "            lines_after_join.append([count, i])\n",
    "        if i.__contains__(\"join\"):\n",
    "            flag = 1\n",
    "\n",
    "    join_ls = ['inner', 'left', 'outer', 'right']\n",
    "    for count, i in enumerate(lines_join):\n",
    "        flag = 0\n",
    "        for k in join_ls:\n",
    "            if flag == 0:\n",
    "                if k in i[1]:\n",
    "                    flag = 1\n",
    "        if flag ==0:\n",
    "            err_flag_inner = 1\n",
    "            print(\"Use Inner keyword on line no. {}\\n{}\".format(i[0]+1,i[1].strip()))\n",
    "    if err_flag_inner == 1:\n",
    "        print('\\n--------------------------------\\n')\n",
    "#     print(\"Use 'On' instead of 'Using' in following lines:\\n\")\n",
    "    for count, i in enumerate(lines_after_join):\n",
    "        if ' using' in i[1]:\n",
    "            err_flag_on = 1\n",
    "            print(f\"Use 'On' keyword instead of 'Using' on Line no. {i[0]+1}\\n{i[1].strip()}\")\n",
    "    if err_flag_on == 1:\n",
    "        print('\\n--------------------------------\\n')"
   ]
  },
  {
   "cell_type": "markdown",
   "id": "8954953b",
   "metadata": {},
   "source": [
    "### Not equals as !="
   ]
  },
  {
   "cell_type": "code",
   "execution_count": 6,
   "id": "c0553f22",
   "metadata": {},
   "outputs": [],
   "source": [
    "def not_equals_sign(lines):\n",
    "#     print('Use != instead of <> in following lines: \\n')\n",
    "    lines_sign = []\n",
    "    err_flag = 0\n",
    "    for count, i in enumerate(lines):\n",
    "        if i.__contains__(\"<>\"):\n",
    "            lines_sign.append([count,i])\n",
    "    for count, i in enumerate(lines_sign):\n",
    "        err_flag = 1\n",
    "        print(\"Use != instead of <> on line no. {}\\n{}\".format(i[0]+1,i[1].strip()))\n",
    "    if err_flag == 1:\n",
    "        print('\\n--------------------------------\\n')"
   ]
  },
  {
   "cell_type": "markdown",
   "id": "92d0d0bb",
   "metadata": {},
   "source": [
    "### Check snake casing"
   ]
  },
  {
   "cell_type": "code",
   "execution_count": 7,
   "id": "09003e5d",
   "metadata": {},
   "outputs": [],
   "source": [
    "def snake_casing(lines):\n",
    "    lines_uppercase = []\n",
    "    flag=0\n",
    "    err_flag = 0\n",
    "    reg = '[A-Za-z]+.'\n",
    "#     print('Following lines contain uppercase characters:\\n')\n",
    "    for count, i in enumerate(lines):\n",
    "        if i.islower()==False and i!='\\n':\n",
    "            x=i.split(\"'\")\n",
    "            for cnt,j in enumerate(x):\n",
    "                if re.search(reg, j):\n",
    "                    if cnt%2 ==0 and j.islower()==False and j!='\\n':\n",
    "                        flag=1\n",
    "                        lines_uppercase.append([count+1,i])\n",
    "                        err_flag = 1\n",
    "                        print('Line no. {} contains uppercase characters:\\n{}'.format(count+1,i.strip()))\n",
    "    if err_flag == 1:\n",
    "        print('\\n--------------------------------\\n')"
   ]
  },
  {
   "cell_type": "markdown",
   "id": "38b8284a",
   "metadata": {},
   "source": [
    "### CTE PADDING"
   ]
  },
  {
   "cell_type": "code",
   "execution_count": 8,
   "id": "5320b043",
   "metadata": {},
   "outputs": [],
   "source": [
    "def cte_padding(lines):\n",
    "    lines_with_cte = []\n",
    "    err_flag = 0\n",
    "    for count, i in enumerate(lines):\n",
    "        if i.strip() == \"with\" or i.__contains__(\"as (\"):\n",
    "            lines_with_cte.append([count,i])\n",
    "    reg = r'\\s*\\W\\n'\n",
    "    for i in lines_with_cte:\n",
    "        if lines[i[0]+1].strip() != '':\n",
    "            err_flag = 1\n",
    "            print(\"Padding absent after line no {} line - {}\".format(i[0]+1,lines[i[0]]))\n",
    "        if lines[i[0]-1].strip() != '':\n",
    "            err_flag = 1\n",
    "            print(\"Padding absent before line no {} line - {}\".format(i[0]+1,lines[i[0]]))\n",
    "        if lines[i[0]+1].lstrip() == '' and lines[i[0]+2].lstrip() == '':\n",
    "            err_flag = 1\n",
    "            print(\"Extra padding present after line no {} line - {}\".format(i[0]+1,lines[i[0]]))\n",
    "        if lines[i[0]-1].strip() == '' and lines[i[0]-2].strip() == '':\n",
    "            err_flag = 1\n",
    "            print(\"Extra padding present before line no {} line - {}\".format(i[0]+1,lines[i[0]]))\n",
    "    lines_select = []\n",
    "    for count, i in enumerate(lines):\n",
    "        if i.__contains__(\"select\") and not i.__contains__(\"select * from\"):\n",
    "            lines_select.append([count,i])\n",
    "    reg = r'\\s*\\W\\n'\n",
    "    for i in lines_select:\n",
    "        if lines[i[0]+1].strip() == '':\n",
    "            err_flag = 1\n",
    "            print(\"Padding present after line no {} line - {}\".format(i[0]+1,lines[i[0]]))\n",
    "        if lines[i[0]-1].strip() == '' and lines[i[0]-2].strip() == '':\n",
    "            err_flag = 1\n",
    "            print(\"Extra padding present before line no {} line - {}\".format(i[0]+1,lines[i[0]]))\n",
    "    if err_flag == 1:\n",
    "        print('\\n--------------------------------\\n')"
   ]
  },
  {
   "cell_type": "markdown",
   "id": "d72df7f9",
   "metadata": {},
   "source": [
    "### CTE Alignment"
   ]
  },
  {
   "cell_type": "code",
   "execution_count": 9,
   "id": "488856d7",
   "metadata": {},
   "outputs": [],
   "source": [
    "def cte_alignment(text):\n",
    "    def find_parens(s):\n",
    "        toret = {}\n",
    "        pstack = []\n",
    "\n",
    "        for i, c in enumerate(s):\n",
    "            if c == '(':\n",
    "                pstack.append(i)\n",
    "            elif c == ')':\n",
    "                toret[pstack.pop()] = i\n",
    "        return toret\n",
    "    bracket_dict = find_parens(text)\n",
    "    opening_bracks = list(bracket_dict.keys())\n",
    "    closing_bracks = list(bracket_dict.values())\n",
    "    cte_dict = {}\n",
    "    err_flag = 0\n",
    "    for i in bracket_dict.keys():\n",
    "        if text[i-4:i] == ' as ':\n",
    "            cte_dict[i] = bracket_dict[i]\n",
    "    for start_brack in cte_dict.keys():\n",
    "        k = start_brack\n",
    "        while text[k] != '\\n':\n",
    "            k=k-1\n",
    "        cte_name = text[k:start_brack]\n",
    "        if cte_name[1] == ' ':\n",
    "            new_line_count = 0\n",
    "            for i in text[:start_brack]:\n",
    "                if i=='\\n':\n",
    "                    new_line_count+=1\n",
    "            err_flag = 1\n",
    "            print('CTE Alignment incorrect for on line no. {}'.format(new_line_count+1))\n",
    "        end_brack = cte_dict[start_brack]\n",
    "        if text[end_brack-1] != '\\n':\n",
    "            new_line_count = 0\n",
    "            for i in text[:end_brack]:\n",
    "                if i=='\\n':\n",
    "                    new_line_count+=1\n",
    "            err_flag = 1\n",
    "            print('CTE Alignment incorrect for on line no. {}'.format(new_line_count+1))\n",
    "    if err_flag == 1:\n",
    "        print('\\n--------------------------------\\n')\n"
   ]
  },
  {
   "cell_type": "markdown",
   "id": "9cda6a2e",
   "metadata": {},
   "source": [
    "### Select Indentation "
   ]
  },
  {
   "cell_type": "code",
   "execution_count": 10,
   "id": "c24ce6da",
   "metadata": {},
   "outputs": [],
   "source": [
    "def select_indentation(lines):\n",
    "    lines_select = []\n",
    "    err_flag = 0\n",
    "    for count, i in enumerate(lines):\n",
    "        if i.__contains__(\"select\") and not i.__contains__(\"select * from final\") and \\\n",
    "        (lines[count-2].__contains__(' as (') or lines[count-1].__contains__('union') or lines[count-1].__contains__('except')):\n",
    "            lines_select.append([count,i])\n",
    "    reg = '[a-zA-Z]'\n",
    "    for j in range(0,len(lines_select)):\n",
    "        match = re.search(reg,lines_select[j][1])\n",
    "        if(match.start()!=4):\n",
    "            err_flag = 1\n",
    "            print(\"Select keyword indentation incorrect at line no {}\".format(lines_select[j][0]))\n",
    "    if err_flag == 1:\n",
    "        print('\\n--------------------------------\\n')"
   ]
  },
  {
   "cell_type": "code",
   "execution_count": null,
   "id": "70091b98",
   "metadata": {},
   "outputs": [],
   "source": []
  },
  {
   "cell_type": "code",
   "execution_count": 11,
   "id": "f364f335",
   "metadata": {},
   "outputs": [],
   "source": [
    "hundred_chars(lines)\n",
    "comma_at_end(lines)\n",
    "inner_join_keyword(lines)\n",
    "not_equals_sign(lines)\n",
    "snake_casing(lines)\n",
    "cte_padding(lines)\n",
    "cte_alignment(text)\n",
    "select_indentation(lines)"
   ]
  },
  {
   "cell_type": "code",
   "execution_count": null,
   "id": "2a123c0c",
   "metadata": {},
   "outputs": [],
   "source": []
  },
  {
   "cell_type": "code",
   "execution_count": null,
   "id": "6eb7dc7c",
   "metadata": {},
   "outputs": [],
   "source": []
  },
  {
   "cell_type": "code",
   "execution_count": null,
   "id": "5438d6d8",
   "metadata": {},
   "outputs": [],
   "source": []
  }
 ],
 "metadata": {
  "kernelspec": {
   "display_name": "Python 3 (ipykernel)",
   "language": "python",
   "name": "python3"
  },
  "language_info": {
   "codemirror_mode": {
    "name": "ipython",
    "version": 3
   },
   "file_extension": ".py",
   "mimetype": "text/x-python",
   "name": "python",
   "nbconvert_exporter": "python",
   "pygments_lexer": "ipython3",
   "version": "3.9.12"
  }
 },
 "nbformat": 4,
 "nbformat_minor": 5
}
