{
 "cells": [
  {
   "cell_type": "code",
   "execution_count": null,
   "id": "d905a580",
   "metadata": {},
   "outputs": [],
   "source": []
  },
  {
   "cell_type": "code",
   "execution_count": null,
   "id": "150d1605",
   "metadata": {},
   "outputs": [],
   "source": [
    " "
   ]
  },
  {
   "cell_type": "code",
   "execution_count": 34,
   "id": "3ae44d74",
   "metadata": {},
   "outputs": [],
   "source": [
    "with open('dim_customer.sql') as f:\n",
    "    lines = f.readlines()"
   ]
  },
  {
   "cell_type": "code",
   "execution_count": 35,
   "id": "32930071",
   "metadata": {},
   "outputs": [
    {
     "data": {
      "text/plain": [
       "['\\n',\n",
       " '        salesforce_account_id                                     as salesforce_account_id\\n',\n",
       " '        legacy_mindbody_sfdc_account_id                           as legacy_mindbody_sfdc_account_id\\n',\n",
       " '        ,legacy_booker_sfdc_account_id                             as legacy_booker_sfdc_account_id\\n',\n",
       " '        ,product_instance_id                                       as product_instance_id\\n',\n",
       " \"        ,initcap(split_part(product_name, ' ', 1))                 as platform,\\n\",\n",
       " '        product_name                                              as product_name,\\n',\n",
       " '        starlink                                                  as starlink,\\n',\n",
       " '        opportunity_close_date                                    as opportunity_close_date,\\n',\n",
       " '        customer_asset_current_status                             as status,\\n',\n",
       " '        customer_asset_unique_id                                  as customer_asset_unique_id,\\n',\n",
       " '       \\n',\n",
       " ')\\n',\n",
       " '\\n']"
      ]
     },
     "execution_count": 35,
     "metadata": {},
     "output_type": "execute_result"
    }
   ],
   "source": [
    "lines"
   ]
  },
  {
   "cell_type": "code",
   "execution_count": 51,
   "id": "d6134cb9",
   "metadata": {},
   "outputs": [
    {
     "name": "stdout",
     "output_type": "stream",
     "text": [
      "For following lines comma is present at start of the line \n",
      "\n",
      "Comma is present at starting of line 3         ,legacy_booker_sfdc_account_id                             as legacy_booker_sfdc_account_id\n",
      "\n",
      "Comma is present at starting of line 4         ,product_instance_id                                       as product_instance_id\n",
      "\n",
      "Comma is present at starting of line 5         ,initcap(split_part(product_name, ' ', 1))                 as platform,\n",
      "\n"
     ]
    }
   ],
   "source": [
    "lines_sign = []\n",
    "\n",
    "print(\"For following lines comma is present at start of the line \\n\")\n",
    "for count, i in enumerate(lines):\n",
    "    if i.lstrip() != '':  \n",
    "        if i.lstrip()[0].__contains__(\",\"):\n",
    "            lines_sign.append([count,i])\n",
    "            print('Comma is present at starting of line {}'.format(count),i)\n",
    "\n",
    "    \n"
   ]
  },
  {
   "cell_type": "code",
   "execution_count": 39,
   "id": "6c1f28cf",
   "metadata": {},
   "outputs": [],
   "source": [
    "x='  '"
   ]
  },
  {
   "cell_type": "code",
   "execution_count": 41,
   "id": "92d42e43",
   "metadata": {},
   "outputs": [
    {
     "data": {
      "text/plain": [
       "''"
      ]
     },
     "execution_count": 41,
     "metadata": {},
     "output_type": "execute_result"
    }
   ],
   "source": [
    "if x\n",
    "x.lstrip()\n"
   ]
  },
  {
   "cell_type": "markdown",
   "id": "2a1febfd",
   "metadata": {},
   "source": [
    "\n"
   ]
  },
  {
   "cell_type": "code",
   "execution_count": 31,
   "id": "ae9687f2",
   "metadata": {},
   "outputs": [
    {
     "data": {
      "text/plain": [
       "[]"
      ]
     },
     "execution_count": 31,
     "metadata": {},
     "output_type": "execute_result"
    }
   ],
   "source": [
    "lines_sign\n"
   ]
  },
  {
   "cell_type": "code",
   "execution_count": null,
   "id": "dbbb7eba",
   "metadata": {},
   "outputs": [],
   "source": []
  },
  {
   "cell_type": "code",
   "execution_count": null,
   "id": "71c752d2",
   "metadata": {},
   "outputs": [],
   "source": []
  },
  {
   "cell_type": "code",
   "execution_count": null,
   "id": "6a3c1044",
   "metadata": {},
   "outputs": [],
   "source": []
  },
  {
   "cell_type": "code",
   "execution_count": null,
   "id": "9e3bfcfd",
   "metadata": {},
   "outputs": [],
   "source": []
  },
  {
   "cell_type": "code",
   "execution_count": null,
   "id": "588a163b",
   "metadata": {},
   "outputs": [],
   "source": []
  },
  {
   "cell_type": "code",
   "execution_count": null,
   "id": "290de2e1",
   "metadata": {},
   "outputs": [],
   "source": []
  }
 ],
 "metadata": {
  "kernelspec": {
   "display_name": "Python 3",
   "language": "python",
   "name": "python3"
  },
  "language_info": {
   "codemirror_mode": {
    "name": "ipython",
    "version": 3
   },
   "file_extension": ".py",
   "mimetype": "text/x-python",
   "name": "python",
   "nbconvert_exporter": "python",
   "pygments_lexer": "ipython3",
   "version": "3.8.8"
  }
 },
 "nbformat": 4,
 "nbformat_minor": 5
}
