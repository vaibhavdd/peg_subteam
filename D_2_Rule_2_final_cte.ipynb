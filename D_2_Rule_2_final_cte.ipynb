{
 "cells": [
  {
   "cell_type": "code",
   "execution_count": null,
   "id": "7fb0e4c0",
   "metadata": {},
   "outputs": [],
   "source": [
    "If you use any CTEs, always have a CTE named final and select * from final at the end."
   ]
  },
  {
   "cell_type": "code",
   "execution_count": 6,
   "id": "053d878c",
   "metadata": {},
   "outputs": [],
   "source": [
    "import re\n",
    "with open('dim_customer.sql') as f:\n",
    "    lines = f.readlines()"
   ]
  },
  {
   "cell_type": "code",
   "execution_count": 7,
   "id": "1be7f34a",
   "metadata": {},
   "outputs": [
    {
     "data": {
      "text/plain": [
       "['{{\\n',\n",
       " '  config(\\n',\n",
       " \"    materialized = 'table',\\n\",\n",
       " '    tags=[\"dim_customers\",\"customer_objects\"]\\n',\n",
       " '    )\\n',\n",
       " '}}\\n',\n",
       " '\\n',\n",
       " '\\n',\n",
       " 'with\\n',\n",
       " '\\n',\n",
       " 'account as (\\n',\n",
       " '\\n',\n",
       " \"    select * from {{ ref('dim_sfdc_account') }}\\n\",\n",
       " '\\n',\n",
       " '),\\n',\n",
       " '\\n',\n",
       " 'account1 as (\\n',\n",
       " '\\n',\n",
       " \"    select * from {{ ref('dim_sfdc_account') }}\\n\",\n",
       " '\\n',\n",
       " ')\\n',\n",
       " '\\n',\n",
       " 'select * from account\\n']"
      ]
     },
     "execution_count": 7,
     "metadata": {},
     "output_type": "execute_result"
    }
   ],
   "source": [
    "lines"
   ]
  },
  {
   "cell_type": "code",
   "execution_count": 8,
   "id": "99d82a81",
   "metadata": {},
   "outputs": [
    {
     "name": "stdout",
     "output_type": "stream",
     "text": [
      "Always have a CTE named final and select * from final at the end.\n"
     ]
    }
   ],
   "source": [
    "lines_select = []\n",
    "\n",
    "flag_ref= 0\n",
    "flag_final= 0\n",
    "\n",
    "for count, i in enumerate(lines):\n",
    "    if i.__contains__(\"ref(\"):\n",
    "        lines_select.append([lines[count]])\n",
    "        flag_ref= flag_ref+1\n",
    "    if i.__contains__(\"final as (\"):\n",
    "        flag_final= flag_final+1\n",
    "        \n",
    "if flag_ref>1 and flag_final==0:\n",
    "    print(\"Always have a CTE named final and select * from final at the end.\")\n",
    "        \n",
    "        "
   ]
  },
  {
   "cell_type": "code",
   "execution_count": null,
   "id": "fc08facc",
   "metadata": {},
   "outputs": [],
   "source": []
  },
  {
   "cell_type": "code",
   "execution_count": null,
   "id": "0ab4cfbd",
   "metadata": {},
   "outputs": [],
   "source": []
  }
 ],
 "metadata": {
  "kernelspec": {
   "display_name": "Python 3",
   "language": "python",
   "name": "python3"
  },
  "language_info": {
   "codemirror_mode": {
    "name": "ipython",
    "version": 3
   },
   "file_extension": ".py",
   "mimetype": "text/x-python",
   "name": "python",
   "nbconvert_exporter": "python",
   "pygments_lexer": "ipython3",
   "version": "3.8.8"
  }
 },
 "nbformat": 4,
 "nbformat_minor": 5
}
