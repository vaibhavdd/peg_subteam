{
 "cells": [
  {
   "cell_type": "code",
   "execution_count": 1,
   "id": "c39c1b21",
   "metadata": {},
   "outputs": [],
   "source": [
    "import numpy as np\n",
    "import pandas as pd\n",
    "import re"
   ]
  },
  {
   "cell_type": "code",
   "execution_count": 40,
   "id": "fb0ccfbb",
   "metadata": {},
   "outputs": [],
   "source": [
    "with open('dim_customer.sql') as f:\n",
    "    lines = f.readlines()\n",
    "    f.seek(0)"
   ]
  },
  {
   "cell_type": "code",
   "execution_count": 41,
   "id": "9bec5ecb",
   "metadata": {},
   "outputs": [],
   "source": [
    "a = open(\"sample.txt\",mode='r')\n"
   ]
  },
  {
   "cell_type": "code",
   "execution_count": 42,
   "id": "80849145",
   "metadata": {},
   "outputs": [
    {
     "data": {
      "text/plain": [
       "['{{\\n',\n",
       " '  config(\\n',\n",
       " \"    materialized = 'table',\\n\",\n",
       " '    tags=[\"dim_customers\",\"customer_objects\"]\\n',\n",
       " '    )\\n',\n",
       " '}}\\n',\n",
       " '\\n',\n",
       " '\\n',\n",
       " 'with\\n',\n",
       " '\\n',\n",
       " \" account as ( select * from {{ ref('dim_sfdc_account') }}aaaaaaaaaaaaaaaaaaaaaaaaaaaaaaaaaaaaaaaaaaaaaaaaaaaaaaaaaaaaaaaaaaaaaaaaaaaaaaaaaa\\n\",\n",
       " '\\n',\n",
       " '  ),\\n',\n",
       " '  \\n',\n",
       " ' final as (\\n',\n",
       " '\\n',\n",
       " '    select * from account\\n',\n",
       " '    \\n',\n",
       " ' )\\n',\n",
       " '\\n',\n",
       " 'select * from account\\n']"
      ]
     },
     "execution_count": 42,
     "metadata": {},
     "output_type": "execute_result"
    }
   ],
   "source": [
    "lines"
   ]
  },
  {
   "cell_type": "code",
   "execution_count": 43,
   "id": "e83735a2",
   "metadata": {},
   "outputs": [
    {
     "name": "stdout",
     "output_type": "stream",
     "text": [
      "Lines of SQL should be no longer than ~100 characters. Please use new line.\n",
      "Line no. 140\n",
      " account as ( select * from {{ ref('dim_sfdc_account') }}aaaaaaaaaaaaaaaaaaaaaaaaaaaaaaaaaaaaaaaaaaaaaaaaaaaaaaaaaaaaaaaaaaaaaaaaaaaaaaaaaa\n",
      "\n"
     ]
    }
   ],
   "source": [
    "for count, i in enumerate(lines):\n",
    "    for cnt, j in enumerate(i):\n",
    "        cnt=cnt+1\n",
    "    if cnt>100:\n",
    "        print(\"Lines of SQL should be no longer than ~100 characters. Please use new line.\\nLine no. {}\\n{}\".format(cnt,i))\n",
    "\n",
    "    "
   ]
  },
  {
   "cell_type": "code",
   "execution_count": null,
   "id": "2b29ba3e",
   "metadata": {},
   "outputs": [],
   "source": []
  }
 ],
 "metadata": {
  "kernelspec": {
   "display_name": "Python 3",
   "language": "python",
   "name": "python3"
  },
  "language_info": {
   "codemirror_mode": {
    "name": "ipython",
    "version": 3
   },
   "file_extension": ".py",
   "mimetype": "text/x-python",
   "name": "python",
   "nbconvert_exporter": "python",
   "pygments_lexer": "ipython3",
   "version": "3.8.8"
  }
 },
 "nbformat": 4,
 "nbformat_minor": 5
}
