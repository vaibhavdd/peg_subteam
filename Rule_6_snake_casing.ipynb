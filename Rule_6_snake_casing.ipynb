{
 "cells": [
  {
   "cell_type": "code",
   "execution_count": 1,
   "id": "6230663f",
   "metadata": {},
   "outputs": [],
   "source": [
    "import numpy as np\n",
    "import pandas as pd\n"
   ]
  },
  {
   "cell_type": "code",
   "execution_count": 4,
   "id": "44fb4f6e",
   "metadata": {},
   "outputs": [],
   "source": []
  },
  {
   "cell_type": "code",
   "execution_count": 82,
   "id": "7d965815",
   "metadata": {},
   "outputs": [],
   "source": [
    "with open('sample.txt') as f:\n",
    "    lines = f.readlines()"
   ]
  },
  {
   "cell_type": "code",
   "execution_count": 83,
   "id": "0ba6f82e",
   "metadata": {
    "scrolled": true
   },
   "outputs": [
    {
     "data": {
      "text/plain": [
       "['\\n',\n",
       " 'with\\n',\n",
       " '\\n',\n",
       " 'activity_summary as (\\n',\n",
       " '\\n',\n",
       " '    select\\n',\n",
       " \"        date_trunc('month',activity_date)                                       as  activity_year_month,\\n\",\n",
       " '        year(activity_date)                                                     as  activity_year,\\n',\n",
       " '        month(activity_date)                                                    as  activity_month,\\n',\n",
       " '        activity_date,\\n',\n",
       " '        endpoint_name,\\n',\n",
       " '        legacy_business_id,\\n',\n",
       " '        partner_id,\\n',\n",
       " '        requests_count,\\n',\n",
       " '        Execution_mode,\\n',\n",
       " '        content_format,\\n',\n",
       " '        case\\n',\n",
       " \"            when contains(endpoint_name, 'WebTransaction/WebAPI') then 'v6'\\n\",\n",
       " \"            when contains(endpoint_name, 'WebTransaction/ASP/HttpControllerHandler') then 'v6'\\n\",\n",
       " \"            when contains(endpoint_name, 'WebTransaction/WebService') then 'v5'\\n\",\n",
       " \"            when contains(endpoint_name, 'WebTransaction/ASP') then 'v5'\\n\",\n",
       " \"            when contains(endpoint_name, '0_5') then 'v5'\\n\",\n",
       " \"            when not contains(endpoint_name, 'Web') and (endpoint_version = '5' or endpoint_version = '5.1') then 'v5'\\n\",\n",
       " \"            when not contains(endpoint_name, 'Web') and endpoint_version = '6' then 'v6'\\n\",\n",
       " \"            else 'v6'\\n\",\n",
       " '        end                                                                     as version,\\n',\n",
       " '        partner_application_id,\\n',\n",
       " '        case\\n',\n",
       " \"            when contains(endpoint_name, 'WebTransaction/WebAPI') then lower(split_part(endpoint_name, '/', -2))\\n\",\n",
       " \"            when contains(endpoint_name, 'WebTransaction/WebService') then lower(replace(split_part(endpoint_name, '.', -2), 'Service', ''))\\n\",\n",
       " \"            when endpoint_version = '6' and endpoint_name like '%/%/%' then split_part(endpoint_name, '/', -3)\\n\",\n",
       " \"            when endpoint_version = '6' and endpoint_name like '%/%' then split_part(endpoint_name, '/', -2)\\n\",\n",
       " \"            when (endpoint_version = '5' or endpoint_version = '5.1') then lower(endpoint_mapping.category)\\n\",\n",
       " \"            else 'others'\\n\",\n",
       " '        end                                                                     as endpoint_category\\n',\n",
       " \"    from {{ ref('api_activity_summary_stg') }} api_activity_summary\\n\",\n",
       " \"    left join {{ ref('endpoint_categories_v5_mapping') }} endpoint_mapping\\n\",\n",
       " '\\t    on api_activity_summary.endpoint_name = endpoint_mapping.endpoint\\n',\n",
       " '    where legacy_business_id not in (-111, 0, 1, -99, -9999)\\n',\n",
       " '\\n',\n",
       " '),\\n',\n",
       " '\\n',\n",
       " 'final as (\\n',\n",
       " '\\n',\n",
       " '    select\\n',\n",
       " '        activity_year_month,\\n',\n",
       " '        activity_year,\\n',\n",
       " '        activity_month,\\n',\n",
       " '        activity_date,\\n',\n",
       " '        endpoint_name,\\n',\n",
       " '        legacy_business_id,\\n',\n",
       " '        partner_id,\\n',\n",
       " '        requests_count,\\n',\n",
       " \"        coalesce(endpoint_category,'others')                                    as endpoint_category,\\n\",\n",
       " '        version,\\n',\n",
       " '        partner_application_id,\\n',\n",
       " '        execution_mode,\\n',\n",
       " '        content_format\\n',\n",
       " '    from activity_summary\\n',\n",
       " '\\n',\n",
       " ')\\n',\n",
       " '\\n',\n",
       " 'select  * from final\\n']"
      ]
     },
     "execution_count": 83,
     "metadata": {},
     "output_type": "execute_result"
    }
   ],
   "source": [
    "lines"
   ]
  },
  {
   "cell_type": "code",
   "execution_count": 84,
   "id": "f53520c5",
   "metadata": {},
   "outputs": [
    {
     "name": "stdout",
     "output_type": "stream",
     "text": [
      "all in uppercase\n"
     ]
    }
   ],
   "source": [
    "lines_uppercase = []\n",
    "flag=0\n",
    "for count, i in enumerate(lines):\n",
    "    if i.islower()==False and i!='\\n':\n",
    "        x=i.split(\"'\")\n",
    "        for cnt,j in enumerate(x):\n",
    "            flag=1\n",
    "            if cnt%2 ==0 and j.islower()==False and j!='\\n':\n",
    "                lines_uppercase.append([count,i])\n",
    "        \n",
    "if flag!=0:\n",
    "    print('all in uppercase')"
   ]
  },
  {
   "cell_type": "code",
   "execution_count": 85,
   "id": "5e2d8bed",
   "metadata": {},
   "outputs": [
    {
     "data": {
      "text/plain": [
       "[[14, '        Execution_mode,\\n'],\n",
       " [28,\n",
       "  \"            when contains(endpoint_name, 'WebTransaction/WebAPI') then lower(split_part(endpoint_name, '/', -2))\\n\"],\n",
       " [29,\n",
       "  \"            when contains(endpoint_name, 'WebTransaction/WebService') then lower(replace(split_part(endpoint_name, '.', -2), 'Service', ''))\\n\"],\n",
       " [29,\n",
       "  \"            when contains(endpoint_name, 'WebTransaction/WebService') then lower(replace(split_part(endpoint_name, '.', -2), 'Service', ''))\\n\"],\n",
       " [29,\n",
       "  \"            when contains(endpoint_name, 'WebTransaction/WebService') then lower(replace(split_part(endpoint_name, '.', -2), 'Service', ''))\\n\"],\n",
       " [40, '),\\n'],\n",
       " [60, ')\\n']]"
      ]
     },
     "execution_count": 85,
     "metadata": {},
     "output_type": "execute_result"
    }
   ],
   "source": [
    "lines_uppercase"
   ]
  },
  {
   "cell_type": "code",
   "execution_count": 42,
   "id": "bcb5971e",
   "metadata": {},
   "outputs": [
    {
     "data": {
      "text/plain": [
       "'\\n'"
      ]
     },
     "execution_count": 42,
     "metadata": {},
     "output_type": "execute_result"
    }
   ],
   "source": [
    "lines[0]"
   ]
  },
  {
   "cell_type": "code",
   "execution_count": 59,
   "id": "9039ee53",
   "metadata": {},
   "outputs": [
    {
     "name": "stdout",
     "output_type": "stream",
     "text": [
      "some letters in uppercase\n",
      "            when contains(endpoint_name, 'webtransaction/asp/httpcontrollerhandler') then 'v6'\n",
      "\n"
     ]
    }
   ],
   "source": [
    "def checkStrContainsUpper(y):\n",
    "    for x in y:\n",
    "\n",
    "  "
   ]
  },
  {
   "cell_type": "code",
   "execution_count": 63,
   "id": "bfa24eb9",
   "metadata": {},
   "outputs": [],
   "source": [
    "y=lines[1]"
   ]
  },
  {
   "cell_type": "code",
   "execution_count": 64,
   "id": "2011f632",
   "metadata": {},
   "outputs": [
    {
     "data": {
      "text/plain": [
       "True"
      ]
     },
     "execution_count": 64,
     "metadata": {},
     "output_type": "execute_result"
    }
   ],
   "source": [
    "y.islower()"
   ]
  },
  {
   "cell_type": "code",
   "execution_count": 58,
   "id": "bdd77406",
   "metadata": {},
   "outputs": [
    {
     "data": {
      "text/plain": [
       "\"            when contains(endpoint_name, 'WebTransaction/ASP/HttpControllerHandler') then 'v6'\\n\""
      ]
     },
     "execution_count": 58,
     "metadata": {},
     "output_type": "execute_result"
    }
   ],
   "source": [
    "y"
   ]
  },
  {
   "cell_type": "code",
   "execution_count": 76,
   "id": "8c8db395",
   "metadata": {},
   "outputs": [
    {
     "data": {
      "text/plain": [
       "['            when contains(endpoint_name, ',\n",
       " 'WebTransaction/WebAPI',\n",
       " ') then ',\n",
       " 'v6',\n",
       " '\\n']"
      ]
     },
     "execution_count": 76,
     "metadata": {},
     "output_type": "execute_result"
    }
   ],
   "source": [
    "lines_uppercase[0][1].split(\"'\")"
   ]
  },
  {
   "cell_type": "code",
   "execution_count": null,
   "id": "4f22b555",
   "metadata": {},
   "outputs": [],
   "source": []
  }
 ],
 "metadata": {
  "kernelspec": {
   "display_name": "Python 3",
   "language": "python",
   "name": "python3"
  },
  "language_info": {
   "codemirror_mode": {
    "name": "ipython",
    "version": 3
   },
   "file_extension": ".py",
   "mimetype": "text/x-python",
   "name": "python",
   "nbconvert_exporter": "python",
   "pygments_lexer": "ipython3",
   "version": "3.8.8"
  }
 },
 "nbformat": 4,
 "nbformat_minor": 5
}
