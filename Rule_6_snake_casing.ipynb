{
 "cells": [
  {
   "cell_type": "markdown",
   "id": "8d0f04f6",
   "metadata": {},
   "source": [
    "The entire code except the one in quotes should be in lower snake_case."
   ]
  },
  {
   "cell_type": "code",
   "execution_count": 1,
   "id": "6230663f",
   "metadata": {},
   "outputs": [],
   "source": [
    "import numpy as np\n",
    "import pandas as pd\n",
    "import re"
   ]
  },
  {
   "cell_type": "code",
   "execution_count": null,
   "id": "44fb4f6e",
   "metadata": {},
   "outputs": [],
   "source": []
  },
  {
   "cell_type": "code",
   "execution_count": 2,
   "id": "7d965815",
   "metadata": {},
   "outputs": [],
   "source": [
    "with open('sample.txt') as f:\n",
    "    lines = f.readlines()"
   ]
  },
  {
   "cell_type": "code",
   "execution_count": 3,
   "id": "0ba6f82e",
   "metadata": {
    "scrolled": true
   },
   "outputs": [
    {
     "data": {
      "text/plain": [
       "['\\n',\n",
       " 'with\\n',\n",
       " '\\n',\n",
       " 'activity_summary as (\\n',\n",
       " '\\n',\n",
       " '    seLect\\n',\n",
       " \"        date_trunc('month',activity_date)                                       as  activity_year_month,\\n\",\n",
       " '        year(activity_date)                                                     as  activity_year,\\n',\n",
       " '        month(activity_date)                                                    as  activity_month,\\n',\n",
       " '        activity_date,\\n',\n",
       " '        endpoint_name,\\n',\n",
       " '        legacy_business_id,\\n',\n",
       " '        partner_id,\\n',\n",
       " '        requests_count,\\n',\n",
       " '        Execution_mode,\\n',\n",
       " '        content_format,\\n',\n",
       " '        case\\n',\n",
       " \"            when contains(endpoint_name, 'WebTransaction/WebAPI') then 'v6'\\n\",\n",
       " \"            when contains(endpoint_name, 'WebTransaction/ASP/HttpControllerHandler') then 'v6'\\n\",\n",
       " \"            when contains(endpoint_name, 'WebTransaction/WebService') then 'v5'\\n\",\n",
       " \"            when contains(endpoint_name, 'WebTransaction/ASP') then 'v5'\\n\",\n",
       " \"            when contains(endpoint_name, '0_5') then 'v5'\\n\",\n",
       " \"            when not contains(endpoint_name, 'Web') and (endpoint_version = '5' or endpoint_version = '5.1') then 'v5'\\n\",\n",
       " \"            when not contains(endpoint_name, 'Web') and endpoint_version = '6' then 'v6'\\n\",\n",
       " \"            else 'v6'\\n\",\n",
       " '        end                                                                     as version,\\n',\n",
       " '        partner_application_id,\\n',\n",
       " '        case\\n',\n",
       " \"            when contains(endpoint_name, 'WebTransaction/WebAPI') then lower(split_part(endpoint_name, '/',a -2))\\n\",\n",
       " \"            when contains(endpoint_name, 'WebTransaction/WebService') then lower(replace(split_part(endpoint_name, '.', -2), 'Service', ''))\\n\",\n",
       " \"            when endpoint_version = '6' and endpoint_name like '%/%/%' then split_part(endpoint_name, '/', -3)\\n\",\n",
       " \"            when endpoint_version = '6' and endpoint_name like '%/%' then split_part(endpoint_name, '/', -2)\\n\",\n",
       " \"            when (endpoint_version = '5' or endpoint_version = '5.1') then lower(endpoint_mapping.category)\\n\",\n",
       " \"            else 'others'\\n\",\n",
       " '        end                                                                     as endpoint_category\\n',\n",
       " \"    from {{ ref('API_activity_summary_stg') }} api_activity_summary\\n\",\n",
       " \"    left join {{ ref('endpoint_categories_v5_mapping') }} endpoint_mapping\\n\",\n",
       " '\\t    on api_activity_summary.endpoint_name = endpoint_mapping.endpoint\\n',\n",
       " '    where legacy_business_id not in (-111, 0, 1, -99, -9999)\\n',\n",
       " '\\n',\n",
       " '),\\n',\n",
       " '\\n',\n",
       " 'finAl as (\\n',\n",
       " '\\n',\n",
       " '    select\\n',\n",
       " '        activity_year_month,\\n',\n",
       " '        activity_year,\\n',\n",
       " '        activity_month,\\n',\n",
       " '        activity_date,\\n',\n",
       " '        endpoint_name,\\n',\n",
       " '        legacy_business_id,\\n',\n",
       " '        partner_id,\\n',\n",
       " '        requests_count,\\n',\n",
       " \"        coalesce(endpoint_category,'others')                                    as endpoint_category,\\n\",\n",
       " '        version,\\n',\n",
       " '        partner_application_id,\\n',\n",
       " '        execution_mode,\\n',\n",
       " '        content_format\\n',\n",
       " '    from activity_summary\\n',\n",
       " '\\n',\n",
       " ')\\n',\n",
       " '\\n',\n",
       " 'select  * from final\\n']"
      ]
     },
     "execution_count": 3,
     "metadata": {},
     "output_type": "execute_result"
    }
   ],
   "source": [
    "lines"
   ]
  },
  {
   "cell_type": "code",
   "execution_count": 10,
   "id": "f53520c5",
   "metadata": {},
   "outputs": [
    {
     "name": "stdout",
     "output_type": "stream",
     "text": [
      "Following line contains uppercase characters 6: seLect\n",
      "Following line contains uppercase characters 15: Execution_mode,\n",
      "Following line contains uppercase characters 43: finAl as (\n"
     ]
    }
   ],
   "source": [
    "lines_uppercase = []\n",
    "flag=0\n",
    "reg = '[A-Za-z]+.'\n",
    "for count, i in enumerate(lines):\n",
    "    if i.islower()==False and i!='\\n':\n",
    "        x=i.split(\"'\")\n",
    "        for cnt,j in enumerate(x):\n",
    "            if re.search(reg, j):\n",
    "                if cnt%2 ==0 and j.islower()==False and j!='\\n':\n",
    "                    flag=1\n",
    "                    lines_uppercase.append([count+1,i])\n",
    "                    print('Following line contains uppercase characters {}: {}'.format(count+1,i.strip()))\n",
    "        \n",
    "# if flag!=0:\n",
    "#     print('Lines contains uppercase characters:\\n', lines_uppercase)"
   ]
  },
  {
   "cell_type": "code",
   "execution_count": 5,
   "id": "5e2d8bed",
   "metadata": {},
   "outputs": [
    {
     "data": {
      "text/plain": [
       "[[6, '    seLect\\n'], [15, '        Execution_mode,\\n'], [43, 'finAl as (\\n']]"
      ]
     },
     "execution_count": 5,
     "metadata": {},
     "output_type": "execute_result"
    }
   ],
   "source": [
    "lines_uppercase"
   ]
  },
  {
   "cell_type": "code",
   "execution_count": null,
   "id": "bcb5971e",
   "metadata": {},
   "outputs": [],
   "source": []
  },
  {
   "cell_type": "code",
   "execution_count": 6,
   "id": "9039ee53",
   "metadata": {},
   "outputs": [
    {
     "name": "stdout",
     "output_type": "stream",
     "text": [
      "        Execution_mode,\n",
      "\n"
     ]
    }
   ],
   "source": [
    "reg = '[A-Za-z]+.'\n",
    "for cnt,j in enumerate(lines_uppercase[1][1].split(\"'\")):\n",
    "    if re.search(reg, j):\n",
    "        if cnt%2 ==0 and j.islower()==False and j!='\\n':\n",
    "            flag=1\n",
    "            print(j)"
   ]
  },
  {
   "cell_type": "code",
   "execution_count": null,
   "id": "bfa24eb9",
   "metadata": {},
   "outputs": [],
   "source": []
  },
  {
   "cell_type": "code",
   "execution_count": 11,
   "id": "2011f632",
   "metadata": {},
   "outputs": [],
   "source": [
    "def snake_casing(lines):\n",
    "    lines_uppercase = []\n",
    "    flag=0\n",
    "    reg = '[A-Za-z]+.'\n",
    "    for count, i in enumerate(lines):\n",
    "        if i.islower()==False and i!='\\n':\n",
    "            x=i.split(\"'\")\n",
    "            for cnt,j in enumerate(x):\n",
    "                if re.search(reg, j):\n",
    "                    if cnt%2 ==0 and j.islower()==False and j!='\\n':\n",
    "                        flag=1\n",
    "                        lines_uppercase.append([count+1,i])\n",
    "                        print('Following line contains uppercase characters {}: {}'.format(count+1,i.strip()))"
   ]
  },
  {
   "cell_type": "code",
   "execution_count": 12,
   "id": "bdd77406",
   "metadata": {},
   "outputs": [
    {
     "name": "stdout",
     "output_type": "stream",
     "text": [
      "Following line contains uppercase characters 6: seLect\n",
      "Following line contains uppercase characters 15: Execution_mode,\n",
      "Following line contains uppercase characters 43: finAl as (\n"
     ]
    }
   ],
   "source": [
    "snake_casing(lines)"
   ]
  },
  {
   "cell_type": "code",
   "execution_count": null,
   "id": "8c8db395",
   "metadata": {},
   "outputs": [],
   "source": []
  },
  {
   "cell_type": "code",
   "execution_count": null,
   "id": "4f22b555",
   "metadata": {},
   "outputs": [],
   "source": []
  },
  {
   "cell_type": "code",
   "execution_count": null,
   "id": "ce027741",
   "metadata": {},
   "outputs": [],
   "source": []
  }
 ],
 "metadata": {
  "kernelspec": {
   "display_name": "Python 3 (ipykernel)",
   "language": "python",
   "name": "python3"
  },
  "language_info": {
   "codemirror_mode": {
    "name": "ipython",
    "version": 3
   },
   "file_extension": ".py",
   "mimetype": "text/x-python",
   "name": "python",
   "nbconvert_exporter": "python",
   "pygments_lexer": "ipython3",
   "version": "3.9.12"
  }
 },
 "nbformat": 4,
 "nbformat_minor": 5
}
