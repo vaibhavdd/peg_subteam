{
 "cells": [
  {
   "cell_type": "code",
   "execution_count": 1,
   "id": "facbbc5f",
   "metadata": {},
   "outputs": [],
   "source": [
    "import re\n",
    "import numpy as np\n"
   ]
  },
  {
   "cell_type": "code",
   "execution_count": 58,
   "id": "714f8784",
   "metadata": {},
   "outputs": [],
   "source": [
    "with open('dim_customer.sql') as f:\n",
    "    lines = f.readlines()"
   ]
  },
  {
   "cell_type": "code",
   "execution_count": 59,
   "id": "e214dff8",
   "metadata": {},
   "outputs": [],
   "source": [
    "opening_bracket_lines = []\n",
    "closing_bracket_lines = []\n",
    "for count,i in enumerate(lines):\n",
    "    if i.__contains__('('):\n",
    "        opening_bracket_lines.append([count,i])\n",
    "    if i.__contains__(')'):\n",
    "        closing_bracket_lines.append([count,i])\n"
   ]
  },
  {
   "cell_type": "code",
   "execution_count": 60,
   "id": "786e92e0",
   "metadata": {},
   "outputs": [
    {
     "data": {
      "text/plain": [
       "[[1, '  config(\\n'],\n",
       " [10, 'account as (       \\n'],\n",
       " [12, \"     select * from {{ ref(   'dim_sfdc_account') }}\\n\"],\n",
       " [16, ' subscription as (\\n'],\n",
       " [18, \"    select * from {{ ref('dim_customer_subscription'   ) }}\\n\"],\n",
       " [22, 'dim_mindbody_legacy as (\\n'],\n",
       " [24, \"    select * from {{ ref('dim_customer_mindbody_legacy') }}\\n\"],\n",
       " [28, 'dim_booker_legacy as (\\n'],\n",
       " [30, \"    select * from {{ ref('dim_customer_booker_legacy') }}\\n\"],\n",
       " [34, ' dim_customer_mindbody_map as (\\n'],\n",
       " [36, \"    select * from {{ ref('dim_customer_mindbody_map') }}\\n\"],\n",
       " [40, ' account_classification as (\\n'],\n",
       " [42, \"    select * from {{ ref('sfdc_account_classification_xf') }}\\n\"],\n",
       " [43,\n",
       "  '    qualify row_number() over (partition by account_id order by dbt_valid_to_month desc)=1\\n'],\n",
       " [47, 'core_software_subscription as (\\n'],\n",
       " [54, \"        initcap(split_part(product_name, ' ', 1)),\\n\"],\n",
       " [69,\n",
       "  '    qualify dense_rank() over ( partition by coalesce(salesforce_account_id, legacy_mindbody_sfdc_account_id, legacy_booker_sfdc_account_id)\\n'],\n",
       " [74, 'mindbody_legacy as (\\n'],\n",
       " [93, 'booker_legacy as (\\n'],\n",
       " [112, 'customers as (\\n'],\n",
       " [118, \"        iff(core_software_subscription.platform='Mindbody', \\n\"],\n",
       " [119,\n",
       "  '            coalesce(to_varchar(dim_customer_mindbody_map.aria_id), dim_customer_mindbody_map.zuora_id), null  )\\n'],\n",
       " [124, \"        iff(core_software_subscription.platform='Booker'\\n\"],\n",
       " [153,\n",
       "  '        coalesce(core_software_subscription.opportunity_close_date,\\n'],\n",
       " [177, 'legacy_mindbody_customers as (\\n'],\n",
       " [190, 'final as (\\n'],\n",
       " [193,\n",
       "  \"        {{dbt_utils.surrogate_key(['platform','coalesce(mindbody_studio_id::varchar,product_instance_id::varchar)','mindbody_location_id']) }}\\n\"],\n",
       " [218,\n",
       "  \"            when (customer_vertical is null or customer_vertical = 'Other')\\n\"],\n",
       " [231,\n",
       "  \"            when customer_region in ('NA', 'LATAM') or customer_region is null\\n\"],\n",
       " [261,\n",
       "  \"        {{dbt_utils.surrogate_key(['platform','mindbody_studio_id','mindbody_location_id']) }}  as customer_id,\\n\"],\n",
       " [266,\n",
       "  '        coalesce(mindbody_id,zuora_id)                                                          as mindbody_id,\\n'],\n",
       " [285,\n",
       "  \"            when (customer_vertical is null or customer_vertical = 'Other')\\n\"],\n",
       " [337,\n",
       "  \"        {{dbt_utils.surrogate_key(['platform','location_id']) }}                                as customer_id,\\n\"],\n",
       " [361,\n",
       "  \"            when (customer_vertical is null or customer_vertical = 'Other')\\n\"]]"
      ]
     },
     "execution_count": 60,
     "metadata": {},
     "output_type": "execute_result"
    }
   ],
   "source": [
    "opening_bracket_lines"
   ]
  },
  {
   "cell_type": "code",
   "execution_count": 61,
   "id": "3b4a53ba",
   "metadata": {},
   "outputs": [
    {
     "data": {
      "text/plain": [
       "[[4, '    )\\n'],\n",
       " [12, \"     select * from {{ ref(   'dim_sfdc_account') }}\\n\"],\n",
       " [14, '),\\n'],\n",
       " [18, \"    select * from {{ ref('dim_customer_subscription'   ) }}\\n\"],\n",
       " [20, '),\\n'],\n",
       " [24, \"    select * from {{ ref('dim_customer_mindbody_legacy') }}\\n\"],\n",
       " [26, ')  ,\\n'],\n",
       " [30, \"    select * from {{ ref('dim_customer_booker_legacy') }}\\n\"],\n",
       " [32, '),\\n'],\n",
       " [36, \"    select * from {{ ref('dim_customer_mindbody_map') }}\\n\"],\n",
       " [38, '    ),\\n'],\n",
       " [42, \"    select * from {{ ref('sfdc_account_classification_xf') }}\\n\"],\n",
       " [43,\n",
       "  '    qualify row_number() over (partition by account_id order by dbt_valid_to_month desc)=1\\n'],\n",
       " [45, '),\\n'],\n",
       " [54, \"        initcap(split_part(product_name, ' ', 1)),\\n\"],\n",
       " [69,\n",
       "  '    qualify dense_rank() over ( partition by coalesce(salesforce_account_id, legacy_mindbody_sfdc_account_id, legacy_booker_sfdc_account_id)\\n'],\n",
       " [70,\n",
       "  '                                order by effective_end_date desc,effective_start_date desc)))) ) )) ) = 1\\n'],\n",
       " [72, '   ),\\n'],\n",
       " [91, '),\\n'],\n",
       " [110, '),\\n'],\n",
       " [119,\n",
       "  '            coalesce(to_varchar(dim_customer_mindbody_map.aria_id), dim_customer_mindbody_map.zuora_id), null  )\\n'],\n",
       " [125,\n",
       "  '                ,product_instance_id,null)                                   as booker_location_id,\\n'],\n",
       " [155, '                 dim_booker_legacy.most_recent_core_start_date)\\n'],\n",
       " [175, '),\\n'],\n",
       " [188, '),\\n'],\n",
       " [193,\n",
       "  \"        {{dbt_utils.surrogate_key(['platform','coalesce(mindbody_studio_id::varchar,product_instance_id::varchar)','mindbody_location_id']) }}\\n\"],\n",
       " [218,\n",
       "  \"            when (customer_vertical is null or customer_vertical = 'Other')\\n\"],\n",
       " [231,\n",
       "  \"            when customer_region in ('NA', 'LATAM') or customer_region is null\\n\"],\n",
       " [261,\n",
       "  \"        {{dbt_utils.surrogate_key(['platform','mindbody_studio_id','mindbody_location_id']) }}  as customer_id,\\n\"],\n",
       " [266,\n",
       "  '        coalesce(mindbody_id,zuora_id)                                                          as mindbody_id,\\n'],\n",
       " [285,\n",
       "  \"            when (customer_vertical is null or customer_vertical = 'Other')\\n\"],\n",
       " [337,\n",
       "  \"        {{dbt_utils.surrogate_key(['platform','location_id']) }}                                as customer_id,\\n\"],\n",
       " [361,\n",
       "  \"            when (customer_vertical is null or customer_vertical = 'Other')\\n\"],\n",
       " [412, ')\\n']]"
      ]
     },
     "execution_count": 61,
     "metadata": {},
     "output_type": "execute_result"
    }
   ],
   "source": [
    "closing_bracket_lines"
   ]
  },
  {
   "cell_type": "code",
   "execution_count": 63,
   "id": "f04395b7",
   "metadata": {},
   "outputs": [
    {
     "name": "stdout",
     "output_type": "stream",
     "text": [
      "error line no: 13\n",
      "error line no: 70\n",
      "closing error line no: 19\n",
      "closing error line no: 71\n",
      "closing error line no: 120\n"
     ]
    }
   ],
   "source": [
    "for i in opening_bracket_lines:\n",
    "    flag = 0\n",
    "    line = i[1].strip().split('(')\n",
    "    for j in range(1,len(line)):\n",
    "        if line[j] == '':\n",
    "            pass\n",
    "        elif line[j][0] == ' ':\n",
    "            flag = 1\n",
    "    if flag ==1:\n",
    "        print('error line no: {}'.format(i[0]+1))\n",
    "for i in closing_bracket_lines:\n",
    "    flag = 0\n",
    "    line = i[1].strip().split(')')\n",
    "    for j in range(len(line)-1):\n",
    "        if line[j] == '':\n",
    "            pass\n",
    "        elif line[j][-1] == ' ':\n",
    "            flag = 1\n",
    "    if flag == 1:\n",
    "        print('closing error line no: {}'.format(i[0]+1))"
   ]
  },
  {
   "cell_type": "code",
   "execution_count": 40,
   "id": "4a78e036",
   "metadata": {},
   "outputs": [],
   "source": [
    "x = '    qualify row_number( ) over (partition by account_id order by dbt_valid_to_month desc  )=1\\n'.split(')')\n",
    "y = 'abc as (\\n'.strip().split('(')"
   ]
  },
  {
   "cell_type": "code",
   "execution_count": 41,
   "id": "6c25049c",
   "metadata": {},
   "outputs": [
    {
     "data": {
      "text/plain": [
       "['    qualify row_number( ',\n",
       " ' over (partition by account_id order by dbt_valid_to_month desc  ',\n",
       " '=1\\n']"
      ]
     },
     "execution_count": 41,
     "metadata": {},
     "output_type": "execute_result"
    }
   ],
   "source": [
    "x"
   ]
  },
  {
   "cell_type": "code",
   "execution_count": 22,
   "id": "9f0d3484",
   "metadata": {},
   "outputs": [
    {
     "name": "stdout",
     "output_type": "stream",
     "text": [
      "error\n",
      " \n"
     ]
    }
   ],
   "source": [
    "for i in range(1,len(x)):\n",
    "    if x[i] == '':\n",
    "        pass\n",
    "    elif x[i][0] == ' ':\n",
    "        print('error')\n"
   ]
  },
  {
   "cell_type": "code",
   "execution_count": 48,
   "id": "733d7bcf",
   "metadata": {
    "scrolled": true
   },
   "outputs": [
    {
     "name": "stdout",
     "output_type": "stream",
     "text": [
      "  0\n",
      "    qualify row_number( \n",
      "closing error line no: {} 0\n",
      "  1\n",
      " over (partition by account_id order by dbt_valid_to_month desc  \n",
      "closing error line no: {} 1\n",
      "\n",
      " 2\n",
      "=1\n",
      "\n"
     ]
    }
   ],
   "source": [
    "\n",
    "for j in range(len(x)):\n",
    "    print(x[j][-1],j)\n",
    "    print(x[j])\n",
    "    if x[j] == '':\n",
    "        pass\n",
    "    elif x[j][-1] == ' ':\n",
    "        print('closing error line no: {}',j)"
   ]
  },
  {
   "cell_type": "code",
   "execution_count": null,
   "id": "c6125384",
   "metadata": {},
   "outputs": [],
   "source": []
  }
 ],
 "metadata": {
  "kernelspec": {
   "display_name": "Python 3 (ipykernel)",
   "language": "python",
   "name": "python3"
  },
  "language_info": {
   "codemirror_mode": {
    "name": "ipython",
    "version": 3
   },
   "file_extension": ".py",
   "mimetype": "text/x-python",
   "name": "python",
   "nbconvert_exporter": "python",
   "pygments_lexer": "ipython3",
   "version": "3.9.12"
  }
 },
 "nbformat": 4,
 "nbformat_minor": 5
}
