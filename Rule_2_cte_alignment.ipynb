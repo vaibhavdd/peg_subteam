{
 "cells": [
  {
   "cell_type": "markdown",
   "id": "9215ae56",
   "metadata": {},
   "source": [
    " Closing CTE parentheses should use the same indentation level as with and the CTE names."
   ]
  },
  {
   "cell_type": "code",
   "execution_count": 1,
   "id": "51669166",
   "metadata": {},
   "outputs": [],
   "source": [
    "import numpy as np\n",
    "import pandas as pd\n",
    "import re"
   ]
  },
  {
   "cell_type": "code",
   "execution_count": 2,
   "id": "f89a97e9",
   "metadata": {},
   "outputs": [],
   "source": [
    "with open('dim_customer.sql') as f:\n",
    "    lines = f.readlines()\n",
    "    f.seek(0)\n",
    "    text = f.read()\n",
    "    \n"
   ]
  },
  {
   "cell_type": "code",
   "execution_count": 3,
   "id": "67b58103",
   "metadata": {},
   "outputs": [
    {
     "data": {
      "text/plain": [
       "['{{\\n',\n",
       " '  config(\\n',\n",
       " \"    materialized = 'table',\\n\",\n",
       " '    tags=[\"dim_customers\",\"customer_objects\"]\\n',\n",
       " '    )\\n',\n",
       " '}}\\n',\n",
       " '\\n',\n",
       " '\\n',\n",
       " 'with\\n',\n",
       " '\\n',\n",
       " 'account as (\\n',\n",
       " '\\n',\n",
       " \"    select * from {{ ref('dim_sfdc_account') }}\\n\",\n",
       " '\\n',\n",
       " '),\\n',\n",
       " '\\n',\n",
       " ' subscription as (\\n',\n",
       " '\\n',\n",
       " \"    select * from {{ ref('dim_customer_subscription') }}\\n\",\n",
       " '\\n',\n",
       " '),\\n',\n",
       " '\\n',\n",
       " 'dim_mindbody_legacy as (\\n',\n",
       " '\\n',\n",
       " \"    select * from {{ ref('dim_customer_mindbody_legacy') }}\\n\",\n",
       " '\\n',\n",
       " '),\\n',\n",
       " '\\n',\n",
       " 'dim_booker_legacy as (\\n',\n",
       " '\\n',\n",
       " \"    select * from {{ ref('dim_customer_booker_legacy') }}\\n\",\n",
       " '\\n',\n",
       " '),\\n',\n",
       " '\\n',\n",
       " ' dim_customer_mindbody_map as (\\n',\n",
       " '\\n',\n",
       " \"    select * from {{ ref('dim_customer_mindbody_map') }}\\n\",\n",
       " '\\n',\n",
       " ' ),\\n',\n",
       " '\\n',\n",
       " ' account_classification as (\\n',\n",
       " '\\n',\n",
       " \"    select * from {{ ref('sfdc_account_classification_xf') }}\\n\",\n",
       " '    qualify row_number() over (partition by account_id order by dbt_valid_to_month desc)=1\\n',\n",
       " '\\n',\n",
       " '),\\n',\n",
       " '\\n',\n",
       " 'core_software_subscription as (\\n',\n",
       " '\\n',\n",
       " '    select\\n',\n",
       " '        salesforce_account_id                                     as salesforce_account_id,\\n',\n",
       " '        legacy_mindbody_sfdc_account_id                           as legacy_mindbody_sfdc_account_id,\\n',\n",
       " '        legacy_booker_sfdc_account_id                             as legacy_booker_sfdc_account_id,\\n',\n",
       " '        product_instance_id                                       as product_instance_id,\\n',\n",
       " \"        initcap(split_part(product_name, ' ', 1)),\\n\",\n",
       " '        product_name                                              as product_name,\\n',\n",
       " '        starlink                                                  as starlink,\\n',\n",
       " '        opportunity_close_date                                    as opportunity_close_date,\\n',\n",
       " '        customer_asset_current_status                             as status,\\n',\n",
       " '        customer_asset_unique_id                                  as customer_asset_unique_id,\\n',\n",
       " '        billing_junction_id                                       as billing_junction_id,\\n',\n",
       " '        subscription_id                                           as subscription_id,\\n',\n",
       " '        effective_start_date                                      as start_date,\\n',\n",
       " '        effective_end_date                                        as end_date,\\n',\n",
       " '        master_subscription_terminated_date                       as master_subscription_terminated_date\\n',\n",
       " '    from subscription\\n',\n",
       " '    where is_core_software = true\\n',\n",
       " '        and subscription_version = 1\\n',\n",
       " '        and product_instance_id is not null\\n',\n",
       " '    qualify dense_rank() over ( partition by coalesce(salesforce_account_id, legacy_mindbody_sfdc_account_id, legacy_booker_sfdc_account_id)\\n',\n",
       " '                                order by effective_end_date desc,effective_start_date desc) = 1\\n',\n",
       " '\\n',\n",
       " '   ),\\n',\n",
       " '\\n',\n",
       " 'mindbody_legacy as (\\n',\n",
       " '\\n',\n",
       " '    select\\n',\n",
       " '        dim_mindbody_legacy.*,\\n',\n",
       " '        account.salesforce_account_id,\\n',\n",
       " '        account.data_owner_id                                               as data_owner_id,\\n',\n",
       " '        account.data_owner_name                                             as data_owner_name,\\n',\n",
       " '        account.data_owner_email                                            as data_owner_email,\\n',\n",
       " \"        'Mindbody' as platform\\n\",\n",
       " '    from dim_mindbody_legacy\\n',\n",
       " '    join account\\n',\n",
       " '        on dim_mindbody_legacy.legacy_mindbody_sfdc_account_id = account.legacy_mindbody_sfdc_account_id\\n',\n",
       " '    join core_software_subscription\\n',\n",
       " '        on dim_mindbody_legacy.legacy_mindbody_sfdc_account_id = core_software_subscription.legacy_mindbody_sfdc_account_id\\n',\n",
       " '    where core_software_subscription.legacy_mindbody_sfdc_account_id is null\\n',\n",
       " '    -- if the customer does not exist in core_software_subscriptions cte, use this legacy data for final dim_customer\\n',\n",
       " '\\n',\n",
       " '),\\n',\n",
       " '\\n',\n",
       " 'booker_legacy as (\\n',\n",
       " '\\n',\n",
       " '    select\\n',\n",
       " '        dim_booker_legacy.*,\\n',\n",
       " '        account.salesforce_account_id,\\n',\n",
       " '        account.data_owner_id                                               as data_owner_id,\\n',\n",
       " '        account.data_owner_name                                             as data_owner_name,\\n',\n",
       " '        account.data_owner_email                                            as data_owner_email,\\n',\n",
       " \"        'Booker' as platform\\n\",\n",
       " '    from dim_booker_legacy\\n',\n",
       " '    join account\\n',\n",
       " '        on dim_booker_legacy.legacy_booker_sfdc_account_id = account.legacy_booker_sfdc_account_id\\n',\n",
       " '    left join core_software_subscription\\n',\n",
       " '        on dim_booker_legacy.legacy_booker_sfdc_account_id = core_software_subscription.legacy_booker_sfdc_account_id\\n',\n",
       " '    where core_software_subscription.legacy_booker_sfdc_account_id is null\\n',\n",
       " '    -- if the customer does not exist in core_software_subscriptions, use this legacy data for final dim_customer\\n',\n",
       " '\\n',\n",
       " '),\\n',\n",
       " '\\n',\n",
       " 'customers as (\\n',\n",
       " '\\n',\n",
       " '    sElect\\n',\n",
       " '        account.salesforce_account_id                                       as salesforce_account_id,\\n',\n",
       " '        core_software_subscription.product_instance_id                      as product_instance_id,\\n',\n",
       " '        core_software_subscription.platform                                 as platform,\\n',\n",
       " \"        iff(core_software_subscription.platform='Mindbody', coalesce(to_varchar(dim_customer_mindbody_map.aria_id), dim_customer_mindbody_map.zuora_id), null)\\n\",\n",
       " '                                                                            as mindbody_id,\\n',\n",
       " '        Dim_customer_mindbody_map.aria_id                                   as aria_id,\\n',\n",
       " '        dim_customer_mindbody_map.studio_id                                 as mindbody_studio_id,\\n',\n",
       " '        dim_customer_mindbody_map.location_id                               as mindbody_location_id,\\n',\n",
       " \"        iff(core_software_subscription.platform='Booker'\\n\",\n",
       " '                ,product_instance_id,null)                                   as booker_location_id,\\n',\n",
       " '        core_software_subscription.customer_asset_unique_id                 as customer_asset_unique_id\\n',\n",
       " '        ,core_software_subscription.subscription_id                          as subscription_id\\n',\n",
       " '        ,account.salesforce_account_name                                     as customer_name,\\n',\n",
       " '        account.merchant_id                                                 as merchant_id,\\n',\n",
       " '        account.vertical                                                    as customer_vertical,\\n',\n",
       " '        account.subvertical                                                 as customer_subvertical,\\n',\n",
       " '        account.shipping_city                                               as customer_city,\\n',\n",
       " '        account.shipping_state_province                                     as customer_state_province,\\n',\n",
       " '        account.shipping_country                                            as customer_country,\\n',\n",
       " '        account.region                                                      as customer_region,\\n',\n",
       " '        account.data_owner_id                                               as data_owner_id,\\n',\n",
       " '        account.data_owner_name                                             as data_owner_name,\\n',\n",
       " '        account.data_owner_email                                            as data_owner_email,\\n',\n",
       " '        account.currency_iso_code                                           as currency_billed_in,\\n',\n",
       " '        account.billing_street                                              as billing_street,\\n',\n",
       " '        account.billing_city                                                as billing_city,\\n',\n",
       " '        account.billing_state_province                                      as billing_state_province,\\n',\n",
       " '        account.billing_state_province_code                                 as billing_state_province_code,\\n',\n",
       " '        account.billing_zip_postal_code                                     as billing_zip_postal_code,\\n',\n",
       " '        account.billing_country                                             as billing_country,\\n',\n",
       " '        account.billing_country_code                                        as billing_country_code,\\n',\n",
       " '        account.top_hierarchy_type                                          as top_hierarchy_type,\\n',\n",
       " '        account.top_hierarchy_account_id                                    as top_hierarchy_account_id,\\n',\n",
       " '        account.top_hierarchy_account_name                                  as top_hierarchy_account_name,\\n',\n",
       " '        account_classification.account_classification                       as most_recent_account_classification,\\n',\n",
       " '        core_software_subscription.product_name                             as most_recent_core_product_name,\\n',\n",
       " '        core_software_subscription.starlink                                 as starlink,\\n',\n",
       " '        coalesce(core_software_subscription.opportunity_close_date,\\n',\n",
       " '                 dim_mindbody_legacy.most_recent_core_start_date,\\n',\n",
       " '                 dim_booker_legacy.most_recent_core_start_date)\\n',\n",
       " '                                                                            as most_recent_core_start_date,\\n',\n",
       " '        master_subscription_terminated_date                                 as most_recent_core_cancellation_date,\\n',\n",
       " '        account.legacy_mindbody_sfdc_account_id                             as legacy_mindbody_sfdc_account_id,\\n',\n",
       " '        account.legacy_booker_sfdc_account_id                               as legacy_booker_sfdc_account_id\\n',\n",
       " '    from account\\n',\n",
       " '    inner join core_software_subscription\\n',\n",
       " '        on  account.salesforce_account_id = core_software_subscription.salesforce_account_id\\n',\n",
       " '    left join dim_customer_mindbody_map\\n',\n",
       " '        on account.salesforce_account_id = dim_customer_mindbody_map.salesforce_account_id\\n',\n",
       " '    left join dim_mindbody_legacy\\n',\n",
       " '        using dim_customer_mindbody_map.legacy_mindbody_sfdc_account_id = dim_mindbody_legacy.legacy_mindbody_sfdc_account_id\\n',\n",
       " \"            and core_software_subscription.platform = 'Mindbody'\\n\",\n",
       " '    left join dim_booker_legacy\\n',\n",
       " '        on account.legacy_booker_sfdc_account_id = dim_booker_legacy.legacy_booker_sfdc_account_id\\n',\n",
       " '            and core_software_subscription.product_instance_id = dim_booker_legacy.location_id\\n',\n",
       " \"            and core_software_subscription.platform = 'Booker'\\n\",\n",
       " '    left join account_classification\\n',\n",
       " '        on account.salesforce_account_id <> account_classification.account_id\\n',\n",
       " '\\n',\n",
       " '),\\n',\n",
       " '\\n',\n",
       " 'legacy_mindbody_customers as (\\n',\n",
       " '\\n',\n",
       " '    select\\n',\n",
       " '        mindbody_legacy.*,\\n',\n",
       " '        dim_customer_mindbody_map.studio_id                                 as mindbody_studio_id,\\n',\n",
       " '        dim_customer_mindbody_map.location_id                               as mindbody_location_id,\\n',\n",
       " '        dim_customer_mindbody_map.zuora_id                                  as zuora_id\\n',\n",
       " '    from dim_customer_mindbody_map\\n',\n",
       " '    inner join mindbody_legacy\\n',\n",
       " '        on dim_customer_mindbody_map.legacy_mindbody_sfdc_account_id = mindbody_legacy.legacy_mindbody_sfdc_account_id\\n',\n",
       " '\\n',\n",
       " '),\\n',\n",
       " '\\n',\n",
       " 'final as (\\n',\n",
       " '\\n',\n",
       " '    select\\n',\n",
       " \"        {{dbt_utils.surrogate_key(['platform','coalesce(mindbody_studio_id::varchar,product_instance_id::varchar)','mindbody_location_id']) }}\\n\",\n",
       " '                                                                                                as customer_id,\\n',\n",
       " '        salesforce_account_id                                                                   as salesforce_account_id,\\n',\n",
       " '        product_instance_id                                                                     as product_instance_id,\\n',\n",
       " '        platform                                                                                as platform,\\n',\n",
       " '        true                                                                                    as is_eos_migrated,\\n',\n",
       " '        mindbody_id                                                                             as mindbody_id,\\n',\n",
       " '        aria_id                                                                                 as aria_id,\\n',\n",
       " '        merchant_id                                                                             as merchant_id,\\n',\n",
       " '        mindbody_studio_id                                                                      as mindbody_studio_id,\\n',\n",
       " '        mindbody_location_id                                                                    as mindbody_location_id,\\n',\n",
       " '        booker_location_id                                                                      as booker_location_id,\\n',\n",
       " '        customer_asset_unique_id                                                                as customer_asset_unique_id,\\n',\n",
       " '        subscription_id                                                                         as subscription_id,\\n',\n",
       " '        customer_name                                                                           as customer_name,\\n',\n",
       " '        case\\n',\n",
       " \"            when customer_vertical = 'Wellness Center'\\n\",\n",
       " \"                then 'Integrative Health'\\n\",\n",
       " '            when customer_vertical is null\\n',\n",
       " \"                then 'Other'\\n\",\n",
       " '            else customer_vertical\\n',\n",
       " '        end                                                                                     as customer_vertical,\\n',\n",
       " '        case\\n',\n",
       " \"            when customer_vertical = 'Wellness Center'\\n\",\n",
       " \"                then 'Integrative Health'\\n\",\n",
       " \"            when (customer_vertical is null or customer_vertical = 'Other')\\n\",\n",
       " \"                then 'Fitness'\\n\",\n",
       " '            else customer_vertical\\n',\n",
       " '        end                                                                                     as customer_vertical_rollup,\\n',\n",
       " '        customer_subvertical                                                                    as customer_subvertical,\\n',\n",
       " '        customer_city                                                                           as customer_city,\\n',\n",
       " '        customer_state_province                                                                 as customer_state_province,\\n',\n",
       " '        customer_country                                                                        as customer_country,\\n',\n",
       " '        case\\n',\n",
       " \"            when customer_region is null then 'Other'\\n\",\n",
       " '            else customer_region\\n',\n",
       " '        end                                                                                     as customer_region,\\n',\n",
       " '        case\\n',\n",
       " \"            when customer_region in ('NA', 'LATAM') or customer_region is null\\n\",\n",
       " \"                then 'Americas'\\n\",\n",
       " \"            when customer_region = 'Prohibited'\\n\",\n",
       " \"                then 'EMEA'\\n\",\n",
       " '            else customer_region\\n',\n",
       " '        end                                                                                     as customer_region_rollup,\\n',\n",
       " '        data_owner_id                                                                           as data_owner_id,\\n',\n",
       " '        data_owner_name                                                                         as data_owner_name,\\n',\n",
       " '        data_owner_email                                                                        as data_owner_email,\\n',\n",
       " '        currency_billed_in                                                                      as currency_billed_in,\\n',\n",
       " '        billing_street                                                                          as billing_street,\\n',\n",
       " '        billing_city                                                                            as billing_city,\\n',\n",
       " '        billing_state_province                                                                  as billing_state_province,\\n',\n",
       " '        billing_state_province_code                                                             as billing_state_province_code,\\n',\n",
       " '        billing_zip_postal_code                                                                 as billing_zip_postal_code,\\n',\n",
       " '        billing_country                                                                         as billing_country,\\n',\n",
       " '        billing_country_code                                                                    as billing_country_code,\\n',\n",
       " '        top_hierarchy_type                                                                      as top_hierarchy_type,\\n',\n",
       " '        top_hierarchy_account_id                                                                as top_hierarchy_account_id,\\n',\n",
       " '        top_hierarchy_account_name                                                              as top_hierarchy_account_name,\\n',\n",
       " '        most_recent_account_classification                                                      as most_recent_account_classification,\\n',\n",
       " '        most_recent_core_product_name                                                           as most_recent_core_product_name,\\n',\n",
       " '        starlink                                                                                as starlink,\\n',\n",
       " '        most_recent_core_start_date                                                             as most_recent_core_start_date,\\n',\n",
       " '        most_recent_core_cancellation_date                                                      as most_recent_core_cancellation_date,\\n',\n",
       " '        legacy_mindbody_sfdc_account_id                                                         as legacy_mindbody_sfdc_account_id,\\n',\n",
       " '        legacy_booker_sfdc_account_id                                                           as legacy_booker_sfdc_account_id\\n',\n",
       " '    From customers\\n',\n",
       " '    union all\\n',\n",
       " '    select\\n',\n",
       " \"        {{dbt_utils.surrogate_key(['platform','mindbody_studio_id','mindbody_location_id']) }}  as customer_id,\\n\",\n",
       " '        salesforce_account_id                                                                   as salesforce_account_id,\\n',\n",
       " '        mindbody_id                                                                             as product_instance_id,\\n',\n",
       " \"        'Mindbody'                                                                              as platform,\\n\",\n",
       " '        false                                                                                   as is_eos_migrated,\\n',\n",
       " '        coalesce(mindbody_id,zuora_id)                                                          as mindbody_id,\\n',\n",
       " '        null                                                                                    as aria_id,\\n',\n",
       " '        merchant_id                                                                             as merchant_id,\\n',\n",
       " '        mindbody_studio_id                                                                      as mindbody_studio_id,\\n',\n",
       " '        mindbody_location_id                                                                    as mindbody_location_id,\\n',\n",
       " '        null                                                                                    as booker_location_id,\\n',\n",
       " '        null                                                                                    as customer_asset_unique_id,\\n',\n",
       " '        null                                                                                    as subscription_id,\\n',\n",
       " '        customer_name                                                                           as customer_name,\\n',\n",
       " '        case\\n',\n",
       " \"            when customer_vertical = 'Wellness Center'\\n\",\n",
       " \"                then 'Integrative Health'\\n\",\n",
       " '            when customer_vertical is null\\n',\n",
       " \"                then 'Other'\\n\",\n",
       " '            else customer_vertical\\n',\n",
       " '        end                                                                                     as customer_vertical,\\n',\n",
       " '        case\\n',\n",
       " \"            when customer_vertical = 'Wellness Center'\\n\",\n",
       " \"                then 'Integrative Health'\\n\",\n",
       " \"            when (customer_vertical is null or customer_vertical = 'Other')\\n\",\n",
       " \"                then 'Fitness'\\n\",\n",
       " '            else customer_vertical\\n',\n",
       " '        end                                                                                     as customer_vertical_rollup,\\n',\n",
       " '        customer_subvertical                                                                    as customer_subvertical,\\n',\n",
       " '        customer_city                                                                           as customer_city,\\n',\n",
       " '        customer_state_province                                                                 as customer_state_province,\\n',\n",
       " '        customer_country                                                                        as customer_country,\\n',\n",
       " '        case\\n',\n",
       " \"            when customer_region = 'Asia Pacific'\\n\",\n",
       " \"                then 'APAC'\\n\",\n",
       " \"            when customer_region ilike 'north%'\\n\",\n",
       " \"                then 'NA'\\n\",\n",
       " '            when customer_region is null\\n',\n",
       " \"                then 'Other'\\n\",\n",
       " \"            when customer_region ilike 'south%'\\n\",\n",
       " \"                then 'LATAM'\\n\",\n",
       " '            else customer_region\\n',\n",
       " '        end                                                                                     as customer_region,\\n',\n",
       " '        case\\n',\n",
       " \"            when customer_region = 'Asia Pacific'\\n\",\n",
       " \"                then 'APAC'\\n\",\n",
       " \"            when customer_region ilike '%america%'\\n\",\n",
       " \"                then 'Americas'\\n\",\n",
       " '            when customer_region is null\\n',\n",
       " \"                then 'Americas'\\n\",\n",
       " '            else customer_region\\n',\n",
       " '        end                                                                                     as customer_region_rollup,\\n',\n",
       " '        data_owner_id                                                                           as data_owner_id,\\n',\n",
       " '        data_owner_name                                                                         as data_owner_name,\\n',\n",
       " '        data_owner_email                                                                        as data_owner_email,\\n',\n",
       " '        currency_billed_in                                                                      as currency_billed_in,\\n',\n",
       " '        billing_street                                                                          as billing_street,\\n',\n",
       " '        billing_city                                                                            as billing_city,\\n',\n",
       " '        billing_state                                                                           as billing_state_province,\\n',\n",
       " '        billing_state_code                                                                      as billing_state_province_code,\\n',\n",
       " '        billing_postal_code                                                                     as billing_zip_postal_code,\\n',\n",
       " '        billing_country                                                                         as billing_country,\\n',\n",
       " '        billing_country_code                                                                    as billing_country_code,\\n',\n",
       " '        null                                                                                    as top_hierarchy_type,\\n',\n",
       " '        null                                                                                    as top_hierarchy_account_id,\\n',\n",
       " '        null                                                                                    as top_hierarchy_account_name,\\n',\n",
       " '        null                                                                                    as most_recent_account_classification,\\n',\n",
       " '        null                                                                                    as most_recent_core_product_name,\\n',\n",
       " '        null                                                                                    as starlink,\\n',\n",
       " '        most_recent_core_start_date                                                             as most_recent_core_start_date,\\n',\n",
       " '        most_recent_core_cancellation_date                                                      as most_recent_core_cancellation_date,\\n',\n",
       " '        legacy_mindbody_sfdc_account_id                                                         as legacy_mindbody_sfdc_account_id,\\n',\n",
       " '        null                                                                                    as legacy_booker_sfdc_account_id\\n',\n",
       " '    from legacy_mindbody_customers\\n',\n",
       " '    Union all\\n',\n",
       " '    select\\n',\n",
       " \"        {{dbt_utils.surrogate_key(['platform','location_id']) }}                                as customer_id,\\n\",\n",
       " '        salesforce_account_id                                                                   as salesforce_account_id,\\n',\n",
       " '        location_id                                                                             as product_instance_id,\\n',\n",
       " \"        'Booker'                                                                                as platform,\\n\",\n",
       " '        false                                                                                   as is_eos_migrated,\\n',\n",
       " '        null                                                                                    as mindbody_id,\\n',\n",
       " '        null                                                                                    as aria_id,\\n',\n",
       " '        null                                                                                    as merchant_id,\\n',\n",
       " '        null                                                                                    as mindbody_studio_id,\\n',\n",
       " '        null                                                                                    as mindbody_location_id,\\n',\n",
       " '        location_id                                                                             as booker_location_id,\\n',\n",
       " '        null                                                                                    as customer_asset_unique_id,\\n',\n",
       " '        null                                                                                    as subscription_id,\\n',\n",
       " '        customer_name                                                                           as customer_name,\\n',\n",
       " '        case\\n',\n",
       " \"            when customer_vertical = 'Wellness Center'\\n\",\n",
       " \"                then 'Integrative Health'\\n\",\n",
       " '            when customer_vertical is null\\n',\n",
       " \"                then 'Other'\\n\",\n",
       " '            else customer_vertical\\n',\n",
       " '        end                                                                                     as customer_vertical,\\n',\n",
       " '        case\\n',\n",
       " \"            when customer_vertical = 'Wellness Center'\\n\",\n",
       " \"                then 'Integrative Health'\\n\",\n",
       " \"            when (customer_vertical is null or customer_vertical = 'Other')\\n\",\n",
       " \"                then 'Fitness'\\n\",\n",
       " '            else customer_vertical\\n',\n",
       " '        end                                                                                     as customer_vertical_rollup,\\n',\n",
       " '        customer_subvertical                                                                    as customer_subvertical,\\n',\n",
       " '        customer_city                                                                           as customer_city,\\n',\n",
       " '        customer_state_province                                                                 as customer_state_province,\\n',\n",
       " '        customer_country                                                                        as customer_country,\\n',\n",
       " '        case\\n',\n",
       " \"            when customer_region = 'Asia Pacific'\\n\",\n",
       " \"                then 'APAC'\\n\",\n",
       " \"            when customer_region ilike 'north%'\\n\",\n",
       " \"                then 'NA'\\n\",\n",
       " '            when customer_region is null\\n',\n",
       " \"                then 'Other'\\n\",\n",
       " \"            when customer_region ilike 'south%'\\n\",\n",
       " \"                then 'LATAM'\\n\",\n",
       " '            else customer_region\\n',\n",
       " '        end                                                                                     as customer_region,\\n',\n",
       " '        case\\n',\n",
       " \"            when customer_region = 'Asia Pacific'\\n\",\n",
       " \"                then 'APAC'\\n\",\n",
       " \"            when customer_region ilike '%america%'\\n\",\n",
       " \"                then 'Americas'\\n\",\n",
       " '            when customer_region is null\\n',\n",
       " \"                then 'Americas'\\n\",\n",
       " '            else customer_region\\n',\n",
       " '        end                                                                                     as customer_region_rollup,\\n',\n",
       " '        data_owner_id                                                                           as data_owner_id,\\n',\n",
       " '        data_owner_name                                                                         as data_owner_name,\\n',\n",
       " '        data_owner_email                                                                        as data_owner_email,\\n',\n",
       " '        currency_billed_in                                                                      as currency_billed_in,\\n',\n",
       " '        billing_street                                                                          as billing_street,\\n',\n",
       " '        billing_city                                                                            as billing_city,\\n',\n",
       " '        billing_state                                                                           as billing_state_province,\\n',\n",
       " '        billing_state_code                                                                      as billing_state_province_code,\\n',\n",
       " '        billing_postal_code                                                                     as billing_zip_postal_code,\\n',\n",
       " '        billing_country                                                                         as billing_country,\\n',\n",
       " '        billing_country_code                                                                    as billing_country_code,\\n',\n",
       " '        null                                                                                    as top_hierarchy_type,\\n',\n",
       " '        null                                                                                    as top_hierarchy_account_id,\\n',\n",
       " '        null                                                                                    as top_hierarchy_account_name,\\n',\n",
       " '        null                                                                                    as most_recent_account_classification,\\n',\n",
       " '        null                                                                                    as most_recent_core_product_name,\\n',\n",
       " '        null                                                                                    as starlink,\\n',\n",
       " '        most_recent_core_start_date                                                             as most_recent_core_start_date,\\n',\n",
       " '        most_recent_core_cancellation_date                                                      as most_recent_core_cancellation_date,\\n',\n",
       " '        null                                                                                    as legacy_mindbody_sfdc_account_id,\\n',\n",
       " '        legacy_booker_sfdc_account_id                                                           as legacy_booker_sfdc_account_id\\n',\n",
       " '    from booker_legacy\\n',\n",
       " '\\n',\n",
       " ')\\n',\n",
       " '\\n',\n",
       " 'select * from final\\n']"
      ]
     },
     "execution_count": 3,
     "metadata": {},
     "output_type": "execute_result"
    }
   ],
   "source": [
    "lines\n"
   ]
  },
  {
   "cell_type": "code",
   "execution_count": 4,
   "id": "32de76c9",
   "metadata": {},
   "outputs": [
    {
     "name": "stdout",
     "output_type": "stream",
     "text": [
      "Column indentation incorrect at line no 16\n",
      "Column indentation incorrect at line no 34\n",
      "Column indentation incorrect at line no 40\n"
     ]
    }
   ],
   "source": [
    "lines_select = []\n",
    "reg = r\"\\\"|\\'|\\{|[a-zA-Z]\"\n",
    "for count, i in enumerate(lines):\n",
    "    if i.__contains__(\"as (\"):\n",
    "        lines_select.append([count,lines[count]])\n",
    "  \n",
    "    \n",
    "for i in lines_select:        \n",
    "    match = re.search(reg, i[1])\n",
    "    #print(i[0],match.start())\n",
    "    if(match.start()!=0):\n",
    "        print(\"Column indentation incorrect at line no {}\".format(i[0]))\n",
    "    "
   ]
  },
  {
   "cell_type": "code",
   "execution_count": 5,
   "id": "ab99cc85",
   "metadata": {},
   "outputs": [
    {
     "data": {
      "text/plain": [
       "[[10, 'account as (\\n'],\n",
       " [16, ' subscription as (\\n'],\n",
       " [22, 'dim_mindbody_legacy as (\\n'],\n",
       " [28, 'dim_booker_legacy as (\\n'],\n",
       " [34, ' dim_customer_mindbody_map as (\\n'],\n",
       " [40, ' account_classification as (\\n'],\n",
       " [47, 'core_software_subscription as (\\n'],\n",
       " [74, 'mindbody_legacy as (\\n'],\n",
       " [93, 'booker_legacy as (\\n'],\n",
       " [112, 'customers as (\\n'],\n",
       " [176, 'legacy_mindbody_customers as (\\n'],\n",
       " [189, 'final as (\\n']]"
      ]
     },
     "execution_count": 5,
     "metadata": {},
     "output_type": "execute_result"
    }
   ],
   "source": [
    "lines_select"
   ]
  },
  {
   "cell_type": "code",
   "execution_count": 6,
   "id": "fed3f4d0",
   "metadata": {},
   "outputs": [
    {
     "name": "stdout",
     "output_type": "stream",
     "text": [
      "account as (\n",
      " 10\n",
      " subscription as (\n",
      " 16\n",
      "dim_mindbody_legacy as (\n",
      " 22\n",
      "dim_booker_legacy as (\n",
      " 28\n",
      " dim_customer_mindbody_map as (\n",
      " 34\n",
      " account_classification as (\n",
      " 40\n",
      "core_software_subscription as (\n",
      " 47\n",
      "mindbody_legacy as (\n",
      " 74\n",
      "booker_legacy as (\n",
      " 93\n",
      "customers as (\n",
      " 112\n",
      "legacy_mindbody_customers as (\n",
      " 176\n"
     ]
    }
   ],
   "source": [
    "reg =  r\"\\),\\n\"\n",
    "reg1 =  r\"\\)\\n\"\n",
    "ind = []\n",
    "for count, i in enumerate(lines):\n",
    "    if i.__contains__(\"as (\") and not i.__contains__(\"final as\"):\n",
    "        ix = count\n",
    "        print(lines[ix],ix)\n",
    "        flag = 0\n",
    "        while(flag==0):\n",
    "            ix+=1\n",
    "            if re.search(reg,lines[ix]):\n",
    "                match = re.search(reg,lines[ix])\n",
    "                \n",
    "                #print(match)\n",
    "                ind.append([count,ix])\n",
    "                flag = 1\n",
    "\n"
   ]
  },
  {
   "cell_type": "code",
   "execution_count": 7,
   "id": "2cc595b6",
   "metadata": {},
   "outputs": [
    {
     "data": {
      "text/plain": [
       "[[10, 14],\n",
       " [16, 20],\n",
       " [22, 26],\n",
       " [28, 32],\n",
       " [34, 38],\n",
       " [40, 45],\n",
       " [47, 54],\n",
       " [74, 91],\n",
       " [93, 110],\n",
       " [112, 174],\n",
       " [176, 187]]"
      ]
     },
     "execution_count": 7,
     "metadata": {},
     "output_type": "execute_result"
    }
   ],
   "source": [
    "ind"
   ]
  },
  {
   "cell_type": "code",
   "execution_count": 8,
   "id": "ac0dae4d",
   "metadata": {},
   "outputs": [
    {
     "name": "stdout",
     "output_type": "stream",
     "text": [
      "Indentation incorrect at line no 16\n",
      "Indentation incorrect at line no 34\n",
      "Indentation incorrect at line no 38\n",
      "Indentation incorrect at line no 40\n",
      "Indentation incorrect at line no 54\n"
     ]
    }
   ],
   "source": [
    "reg='[a-zA-Z]'\n",
    "reg1 =  r\"\\),\\n\"\n",
    "ind1=[]\n",
    "\n",
    "for i in range(0,len(ind)):\n",
    "    for j in range(0,2):\n",
    "        ind1=lines[ind[i][j]]\n",
    "        if ind1[0] == \" \" :\n",
    "#             print(lines[i])\n",
    "#             print(ind1[0])\n",
    "            print(\"Indentation incorrect at line no {}\".format(ind[i][j]))\n",
    "            \n",
    "#         if ind1[i[1]] == \" \" :\n",
    "#             print(lines[i])\n",
    "#             print(ind1[0])\n",
    "#             print(\"Indentation incorrect at line no {}\".format(i))\n",
    "#         #print(\"Indentation incorrect at line no {}\".format(i))\n",
    "#         match1=re.search(reg1,lines[i])\n",
    "#         print(match1)\n",
    "#         if match1 is not None:\n",
    "#             if match1.start()!=0:\n",
    "#                 print(\"Indentation incorrect at line no {}\".format(i))"
   ]
  },
  {
   "cell_type": "code",
   "execution_count": 9,
   "id": "395725e3",
   "metadata": {},
   "outputs": [
    {
     "data": {
      "text/plain": [
       "'legacy_mindbody_customers as (\\n'"
      ]
     },
     "execution_count": 9,
     "metadata": {},
     "output_type": "execute_result"
    }
   ],
   "source": [
    "lines[176]"
   ]
  },
  {
   "cell_type": "code",
   "execution_count": 10,
   "id": "02a1fee0",
   "metadata": {},
   "outputs": [
    {
     "name": "stdout",
     "output_type": "stream",
     "text": [
      "Indentation incorrect at line no 16 -->  subscription as (\n",
      "\n",
      "Indentation incorrect at line no 34 -->  dim_customer_mindbody_map as (\n",
      "\n",
      "Indentation incorrect at line no 38 -->  ),\n",
      "\n",
      "Indentation incorrect at line no 40 -->  account_classification as (\n",
      "\n",
      "Indentation incorrect at line no 54 -->         initcap(split_part(product_name, ' ', 1)),\n",
      "\n",
      "Indentation incorrect at line no 217 -->             when (customer_vertical is null or customer_vertical = 'Other')\n",
      "\n"
     ]
    }
   ],
   "source": [
    "reg =  r\"\\),\\n\"\n",
    "reg1 =  r\"\\)\\n\"       \n",
    "cnt=0          \n",
    "ind1=[]\n",
    "ind = []\n",
    "\n",
    "for i in lines:\n",
    "    if i.__contains__(\"as (\") :\n",
    "        cnt=cnt+1\n",
    "if cnt==1:\n",
    "    for count, i in enumerate(lines):\n",
    "        if i.__contains__(\"as (\"):\n",
    "            ix = count\n",
    "            #print(lines[ix],ix)\n",
    "            flag = 0\n",
    "            while(flag==0):\n",
    "                ix+=1\n",
    "                if re.search(reg1,lines[ix]):\n",
    "                    match = re.search(reg1,lines[ix])\n",
    "                    ind.append([count,ix])\n",
    "                    flag = 1   \n",
    "\n",
    "else:\n",
    "    for count, i in enumerate(lines):\n",
    "        if i.__contains__(\"as (\") and not i.__contains__(\"final as\"):\n",
    "            ix = count\n",
    "            #print(lines[ix],ix)\n",
    "            flag = 0\n",
    "            while(flag==0):\n",
    "                ix+=1\n",
    "                if re.search(reg,lines[ix]):\n",
    "                    match = re.search(reg,lines[ix])\n",
    "                    ind.append([count,ix])\n",
    "                    flag = 1\n",
    "        \n",
    "        elif i.__contains__(\"final as (\"):\n",
    "            ix = count\n",
    "            #print(lines[ix],ix)\n",
    "            flag = 0\n",
    "            while(flag==0):\n",
    "                ix+=1\n",
    "                if re.search(reg1,lines[ix]):\n",
    "                    match = re.search(reg1,lines[ix])\n",
    "                    ind.append([count,ix])\n",
    "                    flag = 1\n",
    "                            \n",
    "\n",
    "for i in range(0,len(ind)):\n",
    "    for j in range(0,2):\n",
    "        ind1=lines[ind[i][j]]\n",
    "        if ind1[0] == \" \" :\n",
    "            print(\"Indentation incorrect at line no {} -->\".format(ind[i][j]),lines[ind[i][j]])\n"
   ]
  },
  {
   "cell_type": "code",
   "execution_count": 11,
   "id": "3b1ede13",
   "metadata": {},
   "outputs": [
    {
     "data": {
      "text/plain": [
       "[[10, 14],\n",
       " [16, 20],\n",
       " [22, 26],\n",
       " [28, 32],\n",
       " [34, 38],\n",
       " [40, 45],\n",
       " [47, 54],\n",
       " [74, 91],\n",
       " [93, 110],\n",
       " [112, 174],\n",
       " [176, 187],\n",
       " [189, 217]]"
      ]
     },
     "execution_count": 11,
     "metadata": {},
     "output_type": "execute_result"
    }
   ],
   "source": [
    "ind"
   ]
  },
  {
   "cell_type": "code",
   "execution_count": 12,
   "id": "0b128b59",
   "metadata": {},
   "outputs": [
    {
     "data": {
      "text/plain": [
       "12"
      ]
     },
     "execution_count": 12,
     "metadata": {},
     "output_type": "execute_result"
    }
   ],
   "source": [
    "cnt"
   ]
  },
  {
   "cell_type": "code",
   "execution_count": 13,
   "id": "d5a5a4d4",
   "metadata": {},
   "outputs": [],
   "source": [
    "def find_parens(s):\n",
    "    toret = {}\n",
    "    pstack = []\n",
    "    \n",
    "    for i, c in enumerate(s):\n",
    "        if c == '(':\n",
    "            pstack.append(i)\n",
    "        elif c == ')':\n",
    "#             if len(pstack) == 0:\n",
    "#                 raise IndexError(\"No matching closing parens at: \" + str(i))\n",
    "            toret[pstack.pop()] = i\n",
    "\n",
    "#     if len(pstack) > 0:\n",
    "#         raise IndexError(\"No matching opening parens at: \" + str(pstack.pop()))\n",
    "\n",
    "    return toret\n",
    "\n",
    "l = 'Puja((Puja())\\nPatil)'\n",
    "bracket_dict = find_parens(text)"
   ]
  },
  {
   "cell_type": "code",
   "execution_count": 14,
   "id": "65fb11ab",
   "metadata": {},
   "outputs": [
    {
     "data": {
      "text/plain": [
       "'{{\\n  config(\\n    materialized = \\'table\\',\\n    tags=[\"dim_customers\",\"customer_objects\"]\\n    )\\n}}\\n\\n\\nwith\\n\\naccount as (\\n\\n    select * from {{ ref(\\'dim_sfdc_account\\') }}\\n\\n),\\n\\n subscription as (\\n\\n    select * from {{ ref(\\'dim_customer_subscription\\') }}\\n\\n),\\n\\ndim_mindbody_legacy as (\\n\\n    select * from {{ ref(\\'dim_customer_mindbody_legacy\\') }}\\n\\n),\\n\\ndim_booker_legacy as (\\n\\n    select * from {{ ref(\\'dim_customer_booker_legacy\\') }}\\n\\n),\\n\\n dim_customer_mindbody_map as (\\n\\n    select * from {{ ref(\\'dim_customer_mindbody_map\\') }}\\n\\n ),\\n\\n account_classification as (\\n\\n    select * from {{ ref(\\'sfdc_account_classification_xf\\') }}\\n    qualify row_number() over (partition by account_id order by dbt_valid_to_month desc)=1\\n\\n),\\n\\ncore_software_subscription as (\\n\\n    select\\n        salesforce_account_id                                     as salesforce_account_id,\\n        legacy_mindbody_sfdc_account_id                           as legacy_mindbody_sfdc_account_id,\\n        legacy_booker_sfdc_account_id                             as legacy_booker_sfdc_account_id,\\n        product_instance_id                                       as product_instance_id,\\n        initcap(split_part(product_name, \\' \\', 1)),\\n        product_name                                              as product_name,\\n        starlink                                                  as starlink,\\n        opportunity_close_date                                    as opportunity_close_date,\\n        customer_asset_current_status                             as status,\\n        customer_asset_unique_id                                  as customer_asset_unique_id,\\n        billing_junction_id                                       as billing_junction_id,\\n        subscription_id                                           as subscription_id,\\n        effective_start_date                                      as start_date,\\n        effective_end_date                                        as end_date,\\n        master_subscription_terminated_date                       as master_subscription_terminated_date\\n    from subscription\\n    where is_core_software = true\\n        and subscription_version = 1\\n        and product_instance_id is not null\\n    qualify dense_rank() over ( partition by coalesce(salesforce_account_id, legacy_mindbody_sfdc_account_id, legacy_booker_sfdc_account_id)\\n                                order by effective_end_date desc,effective_start_date desc) = 1\\n\\n   ),\\n\\nmindbody_legacy as (\\n\\n    select\\n        dim_mindbody_legacy.*,\\n        account.salesforce_account_id,\\n        account.data_owner_id                                               as data_owner_id,\\n        account.data_owner_name                                             as data_owner_name,\\n        account.data_owner_email                                            as data_owner_email,\\n        \\'Mindbody\\' as platform\\n    from dim_mindbody_legacy\\n    join account\\n        on dim_mindbody_legacy.legacy_mindbody_sfdc_account_id = account.legacy_mindbody_sfdc_account_id\\n    join core_software_subscription\\n        on dim_mindbody_legacy.legacy_mindbody_sfdc_account_id = core_software_subscription.legacy_mindbody_sfdc_account_id\\n    where core_software_subscription.legacy_mindbody_sfdc_account_id is null\\n    -- if the customer does not exist in core_software_subscriptions cte, use this legacy data for final dim_customer\\n\\n),\\n\\nbooker_legacy as (\\n\\n    select\\n        dim_booker_legacy.*,\\n        account.salesforce_account_id,\\n        account.data_owner_id                                               as data_owner_id,\\n        account.data_owner_name                                             as data_owner_name,\\n        account.data_owner_email                                            as data_owner_email,\\n        \\'Booker\\' as platform\\n    from dim_booker_legacy\\n    join account\\n        on dim_booker_legacy.legacy_booker_sfdc_account_id = account.legacy_booker_sfdc_account_id\\n    left join core_software_subscription\\n        on dim_booker_legacy.legacy_booker_sfdc_account_id = core_software_subscription.legacy_booker_sfdc_account_id\\n    where core_software_subscription.legacy_booker_sfdc_account_id is null\\n    -- if the customer does not exist in core_software_subscriptions, use this legacy data for final dim_customer\\n\\n),\\n\\ncustomers as (\\n\\n    sElect\\n        account.salesforce_account_id                                       as salesforce_account_id,\\n        core_software_subscription.product_instance_id                      as product_instance_id,\\n        core_software_subscription.platform                                 as platform,\\n        iff(core_software_subscription.platform=\\'Mindbody\\', coalesce(to_varchar(dim_customer_mindbody_map.aria_id), dim_customer_mindbody_map.zuora_id), null)\\n                                                                            as mindbody_id,\\n        Dim_customer_mindbody_map.aria_id                                   as aria_id,\\n        dim_customer_mindbody_map.studio_id                                 as mindbody_studio_id,\\n        dim_customer_mindbody_map.location_id                               as mindbody_location_id,\\n        iff(core_software_subscription.platform=\\'Booker\\'\\n                ,product_instance_id,null)                                   as booker_location_id,\\n        core_software_subscription.customer_asset_unique_id                 as customer_asset_unique_id\\n        ,core_software_subscription.subscription_id                          as subscription_id\\n        ,account.salesforce_account_name                                     as customer_name,\\n        account.merchant_id                                                 as merchant_id,\\n        account.vertical                                                    as customer_vertical,\\n        account.subvertical                                                 as customer_subvertical,\\n        account.shipping_city                                               as customer_city,\\n        account.shipping_state_province                                     as customer_state_province,\\n        account.shipping_country                                            as customer_country,\\n        account.region                                                      as customer_region,\\n        account.data_owner_id                                               as data_owner_id,\\n        account.data_owner_name                                             as data_owner_name,\\n        account.data_owner_email                                            as data_owner_email,\\n        account.currency_iso_code                                           as currency_billed_in,\\n        account.billing_street                                              as billing_street,\\n        account.billing_city                                                as billing_city,\\n        account.billing_state_province                                      as billing_state_province,\\n        account.billing_state_province_code                                 as billing_state_province_code,\\n        account.billing_zip_postal_code                                     as billing_zip_postal_code,\\n        account.billing_country                                             as billing_country,\\n        account.billing_country_code                                        as billing_country_code,\\n        account.top_hierarchy_type                                          as top_hierarchy_type,\\n        account.top_hierarchy_account_id                                    as top_hierarchy_account_id,\\n        account.top_hierarchy_account_name                                  as top_hierarchy_account_name,\\n        account_classification.account_classification                       as most_recent_account_classification,\\n        core_software_subscription.product_name                             as most_recent_core_product_name,\\n        core_software_subscription.starlink                                 as starlink,\\n        coalesce(core_software_subscription.opportunity_close_date,\\n                 dim_mindbody_legacy.most_recent_core_start_date,\\n                 dim_booker_legacy.most_recent_core_start_date)\\n                                                                            as most_recent_core_start_date,\\n        master_subscription_terminated_date                                 as most_recent_core_cancellation_date,\\n        account.legacy_mindbody_sfdc_account_id                             as legacy_mindbody_sfdc_account_id,\\n        account.legacy_booker_sfdc_account_id                               as legacy_booker_sfdc_account_id\\n    from account\\n    inner join core_software_subscription\\n        on  account.salesforce_account_id = core_software_subscription.salesforce_account_id\\n    left join dim_customer_mindbody_map\\n        on account.salesforce_account_id = dim_customer_mindbody_map.salesforce_account_id\\n    left join dim_mindbody_legacy\\n        using dim_customer_mindbody_map.legacy_mindbody_sfdc_account_id = dim_mindbody_legacy.legacy_mindbody_sfdc_account_id\\n            and core_software_subscription.platform = \\'Mindbody\\'\\n    left join dim_booker_legacy\\n        on account.legacy_booker_sfdc_account_id = dim_booker_legacy.legacy_booker_sfdc_account_id\\n            and core_software_subscription.product_instance_id = dim_booker_legacy.location_id\\n            and core_software_subscription.platform = \\'Booker\\'\\n    left join account_classification\\n        on account.salesforce_account_id <> account_classification.account_id\\n\\n),\\n\\nlegacy_mindbody_customers as (\\n\\n    select\\n        mindbody_legacy.*,\\n        dim_customer_mindbody_map.studio_id                                 as mindbody_studio_id,\\n        dim_customer_mindbody_map.location_id                               as mindbody_location_id,\\n        dim_customer_mindbody_map.zuora_id                                  as zuora_id\\n    from dim_customer_mindbody_map\\n    inner join mindbody_legacy\\n        on dim_customer_mindbody_map.legacy_mindbody_sfdc_account_id = mindbody_legacy.legacy_mindbody_sfdc_account_id\\n\\n),\\n\\nfinal as (\\n\\n    select\\n        {{dbt_utils.surrogate_key([\\'platform\\',\\'coalesce(mindbody_studio_id::varchar,product_instance_id::varchar)\\',\\'mindbody_location_id\\']) }}\\n                                                                                                as customer_id,\\n        salesforce_account_id                                                                   as salesforce_account_id,\\n        product_instance_id                                                                     as product_instance_id,\\n        platform                                                                                as platform,\\n        true                                                                                    as is_eos_migrated,\\n        mindbody_id                                                                             as mindbody_id,\\n        aria_id                                                                                 as aria_id,\\n        merchant_id                                                                             as merchant_id,\\n        mindbody_studio_id                                                                      as mindbody_studio_id,\\n        mindbody_location_id                                                                    as mindbody_location_id,\\n        booker_location_id                                                                      as booker_location_id,\\n        customer_asset_unique_id                                                                as customer_asset_unique_id,\\n        subscription_id                                                                         as subscription_id,\\n        customer_name                                                                           as customer_name,\\n        case\\n            when customer_vertical = \\'Wellness Center\\'\\n                then \\'Integrative Health\\'\\n            when customer_vertical is null\\n                then \\'Other\\'\\n            else customer_vertical\\n        end                                                                                     as customer_vertical,\\n        case\\n            when customer_vertical = \\'Wellness Center\\'\\n                then \\'Integrative Health\\'\\n            when (customer_vertical is null or customer_vertical = \\'Other\\')\\n                then \\'Fitness\\'\\n            else customer_vertical\\n        end                                                                                     as customer_vertical_rollup,\\n        customer_subvertical                                                                    as customer_subvertical,\\n        customer_city                                                                           as customer_city,\\n        customer_state_province                                                                 as customer_state_province,\\n        customer_country                                                                        as customer_country,\\n        case\\n            when customer_region is null then \\'Other\\'\\n            else customer_region\\n        end                                                                                     as customer_region,\\n        case\\n            when customer_region in (\\'NA\\', \\'LATAM\\') or customer_region is null\\n                then \\'Americas\\'\\n            when customer_region = \\'Prohibited\\'\\n                then \\'EMEA\\'\\n            else customer_region\\n        end                                                                                     as customer_region_rollup,\\n        data_owner_id                                                                           as data_owner_id,\\n        data_owner_name                                                                         as data_owner_name,\\n        data_owner_email                                                                        as data_owner_email,\\n        currency_billed_in                                                                      as currency_billed_in,\\n        billing_street                                                                          as billing_street,\\n        billing_city                                                                            as billing_city,\\n        billing_state_province                                                                  as billing_state_province,\\n        billing_state_province_code                                                             as billing_state_province_code,\\n        billing_zip_postal_code                                                                 as billing_zip_postal_code,\\n        billing_country                                                                         as billing_country,\\n        billing_country_code                                                                    as billing_country_code,\\n        top_hierarchy_type                                                                      as top_hierarchy_type,\\n        top_hierarchy_account_id                                                                as top_hierarchy_account_id,\\n        top_hierarchy_account_name                                                              as top_hierarchy_account_name,\\n        most_recent_account_classification                                                      as most_recent_account_classification,\\n        most_recent_core_product_name                                                           as most_recent_core_product_name,\\n        starlink                                                                                as starlink,\\n        most_recent_core_start_date                                                             as most_recent_core_start_date,\\n        most_recent_core_cancellation_date                                                      as most_recent_core_cancellation_date,\\n        legacy_mindbody_sfdc_account_id                                                         as legacy_mindbody_sfdc_account_id,\\n        legacy_booker_sfdc_account_id                                                           as legacy_booker_sfdc_account_id\\n    From customers\\n    union all\\n    select\\n        {{dbt_utils.surrogate_key([\\'platform\\',\\'mindbody_studio_id\\',\\'mindbody_location_id\\']) }}  as customer_id,\\n        salesforce_account_id                                                                   as salesforce_account_id,\\n        mindbody_id                                                                             as product_instance_id,\\n        \\'Mindbody\\'                                                                              as platform,\\n        false                                                                                   as is_eos_migrated,\\n        coalesce(mindbody_id,zuora_id)                                                          as mindbody_id,\\n        null                                                                                    as aria_id,\\n        merchant_id                                                                             as merchant_id,\\n        mindbody_studio_id                                                                      as mindbody_studio_id,\\n        mindbody_location_id                                                                    as mindbody_location_id,\\n        null                                                                                    as booker_location_id,\\n        null                                                                                    as customer_asset_unique_id,\\n        null                                                                                    as subscription_id,\\n        customer_name                                                                           as customer_name,\\n        case\\n            when customer_vertical = \\'Wellness Center\\'\\n                then \\'Integrative Health\\'\\n            when customer_vertical is null\\n                then \\'Other\\'\\n            else customer_vertical\\n        end                                                                                     as customer_vertical,\\n        case\\n            when customer_vertical = \\'Wellness Center\\'\\n                then \\'Integrative Health\\'\\n            when (customer_vertical is null or customer_vertical = \\'Other\\')\\n                then \\'Fitness\\'\\n            else customer_vertical\\n        end                                                                                     as customer_vertical_rollup,\\n        customer_subvertical                                                                    as customer_subvertical,\\n        customer_city                                                                           as customer_city,\\n        customer_state_province                                                                 as customer_state_province,\\n        customer_country                                                                        as customer_country,\\n        case\\n            when customer_region = \\'Asia Pacific\\'\\n                then \\'APAC\\'\\n            when customer_region ilike \\'north%\\'\\n                then \\'NA\\'\\n            when customer_region is null\\n                then \\'Other\\'\\n            when customer_region ilike \\'south%\\'\\n                then \\'LATAM\\'\\n            else customer_region\\n        end                                                                                     as customer_region,\\n        case\\n            when customer_region = \\'Asia Pacific\\'\\n                then \\'APAC\\'\\n            when customer_region ilike \\'%america%\\'\\n                then \\'Americas\\'\\n            when customer_region is null\\n                then \\'Americas\\'\\n            else customer_region\\n        end                                                                                     as customer_region_rollup,\\n        data_owner_id                                                                           as data_owner_id,\\n        data_owner_name                                                                         as data_owner_name,\\n        data_owner_email                                                                        as data_owner_email,\\n        currency_billed_in                                                                      as currency_billed_in,\\n        billing_street                                                                          as billing_street,\\n        billing_city                                                                            as billing_city,\\n        billing_state                                                                           as billing_state_province,\\n        billing_state_code                                                                      as billing_state_province_code,\\n        billing_postal_code                                                                     as billing_zip_postal_code,\\n        billing_country                                                                         as billing_country,\\n        billing_country_code                                                                    as billing_country_code,\\n        null                                                                                    as top_hierarchy_type,\\n        null                                                                                    as top_hierarchy_account_id,\\n        null                                                                                    as top_hierarchy_account_name,\\n        null                                                                                    as most_recent_account_classification,\\n        null                                                                                    as most_recent_core_product_name,\\n        null                                                                                    as starlink,\\n        most_recent_core_start_date                                                             as most_recent_core_start_date,\\n        most_recent_core_cancellation_date                                                      as most_recent_core_cancellation_date,\\n        legacy_mindbody_sfdc_account_id                                                         as legacy_mindbody_sfdc_account_id,\\n        null                                                                                    as legacy_booker_sfdc_account_id\\n    from legacy_mindbody_customers\\n    Union all\\n    select\\n        {{dbt_utils.surrogate_key([\\'platform\\',\\'location_id\\']) }}                                as customer_id,\\n        salesforce_account_id                                                                   as salesforce_account_id,\\n        location_id                                                                             as product_instance_id,\\n        \\'Booker\\'                                                                                as platform,\\n        false                                                                                   as is_eos_migrated,\\n        null                                                                                    as mindbody_id,\\n        null                                                                                    as aria_id,\\n        null                                                                                    as merchant_id,\\n        null                                                                                    as mindbody_studio_id,\\n        null                                                                                    as mindbody_location_id,\\n        location_id                                                                             as booker_location_id,\\n        null                                                                                    as customer_asset_unique_id,\\n        null                                                                                    as subscription_id,\\n        customer_name                                                                           as customer_name,\\n        case\\n            when customer_vertical = \\'Wellness Center\\'\\n                then \\'Integrative Health\\'\\n            when customer_vertical is null\\n                then \\'Other\\'\\n            else customer_vertical\\n        end                                                                                     as customer_vertical,\\n        case\\n            when customer_vertical = \\'Wellness Center\\'\\n                then \\'Integrative Health\\'\\n            when (customer_vertical is null or customer_vertical = \\'Other\\')\\n                then \\'Fitness\\'\\n            else customer_vertical\\n        end                                                                                     as customer_vertical_rollup,\\n        customer_subvertical                                                                    as customer_subvertical,\\n        customer_city                                                                           as customer_city,\\n        customer_state_province                                                                 as customer_state_province,\\n        customer_country                                                                        as customer_country,\\n        case\\n            when customer_region = \\'Asia Pacific\\'\\n                then \\'APAC\\'\\n            when customer_region ilike \\'north%\\'\\n                then \\'NA\\'\\n            when customer_region is null\\n                then \\'Other\\'\\n            when customer_region ilike \\'south%\\'\\n                then \\'LATAM\\'\\n            else customer_region\\n        end                                                                                     as customer_region,\\n        case\\n            when customer_region = \\'Asia Pacific\\'\\n                then \\'APAC\\'\\n            when customer_region ilike \\'%america%\\'\\n                then \\'Americas\\'\\n            when customer_region is null\\n                then \\'Americas\\'\\n            else customer_region\\n        end                                                                                     as customer_region_rollup,\\n        data_owner_id                                                                           as data_owner_id,\\n        data_owner_name                                                                         as data_owner_name,\\n        data_owner_email                                                                        as data_owner_email,\\n        currency_billed_in                                                                      as currency_billed_in,\\n        billing_street                                                                          as billing_street,\\n        billing_city                                                                            as billing_city,\\n        billing_state                                                                           as billing_state_province,\\n        billing_state_code                                                                      as billing_state_province_code,\\n        billing_postal_code                                                                     as billing_zip_postal_code,\\n        billing_country                                                                         as billing_country,\\n        billing_country_code                                                                    as billing_country_code,\\n        null                                                                                    as top_hierarchy_type,\\n        null                                                                                    as top_hierarchy_account_id,\\n        null                                                                                    as top_hierarchy_account_name,\\n        null                                                                                    as most_recent_account_classification,\\n        null                                                                                    as most_recent_core_product_name,\\n        null                                                                                    as starlink,\\n        most_recent_core_start_date                                                             as most_recent_core_start_date,\\n        most_recent_core_cancellation_date                                                      as most_recent_core_cancellation_date,\\n        null                                                                                    as legacy_mindbody_sfdc_account_id,\\n        legacy_booker_sfdc_account_id                                                           as legacy_booker_sfdc_account_id\\n    from booker_legacy\\n\\n)\\n\\nselect * from final\\n'"
      ]
     },
     "execution_count": 14,
     "metadata": {},
     "output_type": "execute_result"
    }
   ],
   "source": [
    "text"
   ]
  },
  {
   "cell_type": "code",
   "execution_count": 15,
   "id": "ff3f412e",
   "metadata": {},
   "outputs": [
    {
     "data": {
      "text/plain": [
       "\"(\\n\\n    select * from {{ ref('dim_sfdc_account') }}\\n\\n)\""
      ]
     },
     "execution_count": 15,
     "metadata": {},
     "output_type": "execute_result"
    }
   ],
   "source": [
    "text[115:168]"
   ]
  },
  {
   "cell_type": "code",
   "execution_count": 16,
   "id": "29b531af",
   "metadata": {},
   "outputs": [
    {
     "data": {
      "text/plain": [
       "{11: 91,\n",
       " 142: 161,\n",
       " 115: 167,\n",
       " 215: 243,\n",
       " 188: 249,\n",
       " 303: 334,\n",
       " 276: 340,\n",
       " 392: 421,\n",
       " 365: 427,\n",
       " 488: 516,\n",
       " 461: 523,\n",
       " 581: 614,\n",
       " 641: 642,\n",
       " 649: 706,\n",
       " 554: 711,\n",
       " 1169: 1190,\n",
       " 1158: 1191,\n",
       " 2221: 2222,\n",
       " 2252: 2338,\n",
       " 2229: 2430,\n",
       " 745: 2440,\n",
       " 2463: 3372,\n",
       " 3393: 4283,\n",
       " 4684: 4718,\n",
       " 4673: 4755,\n",
       " 4616: 4762,\n",
       " 5155: 5242,\n",
       " 8005: 8185,\n",
       " 4300: 9544,\n",
       " 9577: 10092,\n",
       " 10174: 10231,\n",
       " 10152: 10257,\n",
       " 12349: 12406,\n",
       " 13340: 13354,\n",
       " 16299: 16356,\n",
       " 16861: 16882,\n",
       " 18353: 18410,\n",
       " 22611: 22638,\n",
       " 24665: 24722,\n",
       " 10105: 28854}"
      ]
     },
     "execution_count": 16,
     "metadata": {},
     "output_type": "execute_result"
    }
   ],
   "source": [
    "bracket_dict"
   ]
  },
  {
   "cell_type": "code",
   "execution_count": 17,
   "id": "4f70423c",
   "metadata": {},
   "outputs": [
    {
     "data": {
      "text/plain": [
       "\"ubscription as (\\n\\n    select\\n        salesforce_account_id                                     as salesforce_account_id,\\n        legacy_mindbody_sfdc_account_id                           as legacy_mindbody_sfdc_account_id,\\n        legacy_booker_sfdc_account_id                             as legacy_booker_sfdc_account_id,\\n        product_instance_id                                       as product_instance_id,\\n        initcap(split_part(product_name, ' ', 1)),\\n        product_name                                              as product_name,\\n        starlink                                                  as starlink,\\n        opportunity_close_date                                    as opportunity_close_date,\\n        customer_asset_current_status                             as status,\\n        customer_asset_unique_id                                  as customer_asset_unique_id,\\n        billing_junction_id                                       as billing_junction_id,\\n        subscription_id                                           as subscription_id,\\n        effective_start_date                                      as start_date,\\n        effective_end_date                                        as end_date,\\n        master_subscription_terminated_date                       as master_subscription_terminated_date\\n    from subscription\\n    where is_core_software = true\\n        and subscription_version = 1\\n        and product_instance_id is not null\\n    qualify dense_rank() over ( partition by coalesce(salesforce_account_id, legacy_mindbody_sfdc_account_id, legacy_booker_sfdc_account_id)\\n                                order by effective_end_date desc,effective_start_date desc) = 1\\n\\n   ),\\n\\nm\""
      ]
     },
     "execution_count": 17,
     "metadata": {},
     "output_type": "execute_result"
    }
   ],
   "source": [
    "text[730:2445]"
   ]
  },
  {
   "cell_type": "code",
   "execution_count": 18,
   "id": "3efc1cac",
   "metadata": {},
   "outputs": [],
   "source": [
    "opening_bracks = list(bracket_dict.keys())\n",
    "closing_bracks = list(bracket_dict.values())\n",
    "\n",
    "cte_dict = {}\n",
    "for i in bracket_dict.keys():\n",
    "    if text[i-4:i] == ' as ':\n",
    "        cte_dict[i] = bracket_dict[i]"
   ]
  },
  {
   "cell_type": "code",
   "execution_count": 19,
   "id": "50612c62",
   "metadata": {},
   "outputs": [
    {
     "data": {
      "text/plain": [
       "{115: 167,\n",
       " 188: 249,\n",
       " 276: 340,\n",
       " 365: 427,\n",
       " 461: 523,\n",
       " 554: 711,\n",
       " 745: 2440,\n",
       " 2463: 3372,\n",
       " 3393: 4283,\n",
       " 4300: 9544,\n",
       " 9577: 10092,\n",
       " 10105: 28854}"
      ]
     },
     "execution_count": 19,
     "metadata": {},
     "output_type": "execute_result"
    }
   ],
   "source": [
    "cte_dict"
   ]
  },
  {
   "cell_type": "code",
   "execution_count": 20,
   "id": "0716d4ff",
   "metadata": {},
   "outputs": [
    {
     "data": {
      "text/plain": [
       "'\\naccount as '"
      ]
     },
     "execution_count": 20,
     "metadata": {},
     "output_type": "execute_result"
    }
   ],
   "source": [
    "text[103:115]"
   ]
  },
  {
   "cell_type": "code",
   "execution_count": 21,
   "id": "38a00a84",
   "metadata": {},
   "outputs": [
    {
     "name": "stdout",
     "output_type": "stream",
     "text": [
      "CTE Alignment incorrect for on line no. 17\n",
      "CTE Alignment incorrect for on line no. 35\n",
      "CTE Alignment incorrect for on line no. 39\n",
      "CTE Alignment incorrect for on line no. 41\n",
      "CTE Alignment incorrect for on line no. 73\n"
     ]
    }
   ],
   "source": [
    "# counter = 0\n",
    "# start_brack = 116\n",
    "for start_brack in cte_dict.keys():\n",
    "    k = start_brack\n",
    "    while text[k] != '\\n':\n",
    "        k=k-1\n",
    "    cte_name = text[k:start_brack]\n",
    "    if cte_name[1] == ' ':\n",
    "        new_line_count = 0\n",
    "        for i in text[:start_brack]:\n",
    "            if i=='\\n':\n",
    "                new_line_count+=1\n",
    "        print('CTE Alignment incorrect for on line no. {}'.format(new_line_count+1))\n",
    "    end_brack = cte_dict[start_brack]\n",
    "    if text[end_brack-1] != '\\n':\n",
    "        new_line_count = 0\n",
    "        for i in text[:end_brack]:\n",
    "            if i=='\\n':\n",
    "                new_line_count+=1\n",
    "        print('CTE Alignment incorrect for on line no. {}'.format(new_line_count+1))"
   ]
  },
  {
   "cell_type": "code",
   "execution_count": 22,
   "id": "af1360eb",
   "metadata": {},
   "outputs": [
    {
     "name": "stdout",
     "output_type": "stream",
     "text": [
      "23\n"
     ]
    }
   ],
   "source": [
    "new_line_count = 0\n",
    "for i in text[:275]:\n",
    "    if i=='\\n':\n",
    "        new_line_count+=1\n",
    "print(new_line_count+1)"
   ]
  },
  {
   "cell_type": "code",
   "execution_count": null,
   "id": "8a852c06",
   "metadata": {},
   "outputs": [],
   "source": []
  }
 ],
 "metadata": {
  "kernelspec": {
   "display_name": "Python 3 (ipykernel)",
   "language": "python",
   "name": "python3"
  },
  "language_info": {
   "codemirror_mode": {
    "name": "ipython",
    "version": 3
   },
   "file_extension": ".py",
   "mimetype": "text/x-python",
   "name": "python",
   "nbconvert_exporter": "python",
   "pygments_lexer": "ipython3",
   "version": "3.9.12"
  }
 },
 "nbformat": 4,
 "nbformat_minor": 5
}
