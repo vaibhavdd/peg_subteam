{
 "cells": [
  {
   "cell_type": "code",
   "execution_count": 1,
   "id": "cd8a9da4",
   "metadata": {},
   "outputs": [],
   "source": [
    "import numpy as np\n",
    "import pandas as pd\n",
    "import re"
   ]
  },
  {
   "cell_type": "code",
   "execution_count": 19,
   "id": "21805080",
   "metadata": {},
   "outputs": [],
   "source": [
    "with open('dim_customer.sql') as f:\n",
    "    lines = f.readlines()\n"
   ]
  },
  {
   "cell_type": "code",
   "execution_count": 20,
   "id": "3efbf54e",
   "metadata": {},
   "outputs": [],
   "source": [
    "ind = []\n",
    "for count, i in enumerate(lines):\n",
    "    if i.__contains__(\"select\\n\"):\n",
    "        ix = count+1\n",
    "        flag = 0\n",
    "        while(flag==0):\n",
    "            if lines[ix].__contains__(\" from \"):\n",
    "                ind.append([count+1,ix])\n",
    "                flag = 1\n",
    "            ix+=1"
   ]
  },
  {
   "cell_type": "code",
   "execution_count": 21,
   "id": "3a4f1908",
   "metadata": {},
   "outputs": [
    {
     "data": {
      "text/plain": [
       "[[50, 66], [78, 84], [97, 103], [182, 186], [196, 341], [268, 341], [344, 417]]"
      ]
     },
     "execution_count": 21,
     "metadata": {},
     "output_type": "execute_result"
    }
   ],
   "source": [
    "ind"
   ]
  },
  {
   "cell_type": "code",
   "execution_count": 47,
   "id": "7064b937",
   "metadata": {},
   "outputs": [
    {
     "name": "stdout",
     "output_type": "stream",
     "text": [
      "error 65\n"
     ]
    }
   ],
   "source": [
    "temp = []\n",
    "\n",
    "for k in range(len(ind)):\n",
    "    for i in range(ind[k][0],ind[k][1]):\n",
    "        temp.append([i,lines[i]])\n",
    "    agg_flag = 0\n",
    "    for j in temp:\n",
    "        if (j[1].__contains__('sum(') or j[1].__contains__('min(') or j[1].__contains__('max(')):\n",
    "            agg_flag = 1\n",
    "#             print(agg_flag)\n",
    "    #             print(agg_flag == 1)\n",
    "        elif agg_flag == 1:\n",
    "    #             print('3 runs')\n",
    "#             print(agg_flag)\n",
    "            print('error {}'.format(j[0]))\n",
    "        elif agg_flag == 0:\n",
    "    #             print('2 runs')\n",
    "#             print(agg_flag)\n",
    "            continue\n",
    "        temp = []\n",
    "    \n",
    "        "
   ]
  },
  {
   "cell_type": "code",
   "execution_count": 12,
   "id": "93115626",
   "metadata": {},
   "outputs": [
    {
     "data": {
      "text/plain": [
       "['        salesforce_account_id                                     as salesforce_account_id,\\n',\n",
       " '        legacy_mindbody_sfdc_account_id                           as legacy_mindbody_sfdc_account_id,\\n',\n",
       " '        legacy_booker_sfdc_account_id                             as legacy_booker_sfdc_account_id,\\n',\n",
       " '        product_instance_id                                       as product_instance_id,\\n',\n",
       " \"        initcap(split_part(product_name, ' ', 1)),\\n\",\n",
       " '        product_name                                              as product_name,\\n',\n",
       " '        starlink                                                  as starlink,\\n',\n",
       " '        opportunity_close_date                                    as opportunity_close_date,\\n',\n",
       " '        customer_asset_current_status                             as status,\\n',\n",
       " '        customer_asset_unique_id                                  as customer_asset_unique_id,\\n',\n",
       " '        billing_junction_id                                       as billing_junction_id,\\n',\n",
       " '        subscription_id                                           as subscription_id,\\n',\n",
       " '        effective_start_date                                      as start_date,\\n',\n",
       " '        effective_end_date                                        as end_date,\\n',\n",
       " '        master_subscription_terminated_date                       as master_subscription_terminated_date\\n']"
      ]
     },
     "execution_count": 12,
     "metadata": {},
     "output_type": "execute_result"
    }
   ],
   "source": []
  },
  {
   "cell_type": "code",
   "execution_count": null,
   "id": "3f3f8c0f",
   "metadata": {},
   "outputs": [],
   "source": [
    "sum\n",
    "avg\n",
    "min\n",
    "max\n",
    "rank\n",
    "dense_rank"
   ]
  },
  {
   "cell_type": "code",
   "execution_count": null,
   "id": "fd3c1f07",
   "metadata": {},
   "outputs": [],
   "source": [
    "var = "
   ]
  },
  {
   "cell_type": "code",
   "execution_count": 42,
   "id": "a0dd69fb",
   "metadata": {},
   "outputs": [
    {
     "name": "stdout",
     "output_type": "stream",
     "text": [
      "        effective_start_date                                      as start_date,\n",
      "\n",
      "0\n",
      "        effective_end_date                                        as end_date,\n",
      "\n",
      "0\n",
      "sum(animesh)\n",
      "1\n",
      "        master_subscription_terminated_date                       as master_subscription_terminated_date\n",
      "\n",
      "1\n",
      "error  \n"
     ]
    }
   ],
   "source": [
    "temp = [\n",
    " '        effective_start_date                                      as start_date,\\n',\n",
    " '        effective_end_date                                        as end_date,\\n',\n",
    " 'sum(animesh)',\n",
    " '        master_subscription_terminated_date                       as master_subscription_terminated_date\\n']\n",
    "\n",
    "agg_flag = 0\n",
    "for j in temp:\n",
    "    \n",
    "    print(j)\n",
    "    \n",
    "    if (j.__contains__('sum(') or j.__contains__('min(') or j.__contains__('max(')):\n",
    "        agg_flag = 1\n",
    "        print(agg_flag)\n",
    "#             print(agg_flag == 1)\n",
    "    elif agg_flag == 1:\n",
    "#             print('3 runs')\n",
    "        print(agg_flag)\n",
    "        print('error {}'.format(j[0]))\n",
    "    elif agg_flag == 0:\n",
    "#             print('2 runs')\n",
    "        print(agg_flag)\n",
    "        continue"
   ]
  },
  {
   "cell_type": "code",
   "execution_count": null,
   "id": "228a83ec",
   "metadata": {},
   "outputs": [],
   "source": []
  },
  {
   "cell_type": "code",
   "execution_count": null,
   "id": "8a380500",
   "metadata": {},
   "outputs": [],
   "source": []
  }
 ],
 "metadata": {
  "kernelspec": {
   "display_name": "Python 3 (ipykernel)",
   "language": "python",
   "name": "python3"
  },
  "language_info": {
   "codemirror_mode": {
    "name": "ipython",
    "version": 3
   },
   "file_extension": ".py",
   "mimetype": "text/x-python",
   "name": "python",
   "nbconvert_exporter": "python",
   "pygments_lexer": "ipython3",
   "version": "3.9.12"
  }
 },
 "nbformat": 4,
 "nbformat_minor": 5
}
