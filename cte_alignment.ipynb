{
 "cells": [
  {
   "cell_type": "code",
   "execution_count": null,
   "id": "51669166",
   "metadata": {},
   "outputs": [],
   "source": [
    "import numpy as np\n",
    "import pandas as pd\n",
    "import re"
   ]
  },
  {
   "cell_type": "code",
   "execution_count": null,
   "id": "f89a97e9",
   "metadata": {},
   "outputs": [],
   "source": [
    "with open('dim_customer.sql') as f:\n",
    "    lines = f.readlines()\n",
    "    f.seek(0)\n"
   ]
  },
  {
   "cell_type": "code",
   "execution_count": null,
   "id": "67b58103",
   "metadata": {},
   "outputs": [],
   "source": [
    "lines"
   ]
  },
  {
   "cell_type": "code",
   "execution_count": 15,
   "id": "32de76c9",
   "metadata": {},
   "outputs": [
    {
     "name": "stdout",
     "output_type": "stream",
     "text": [
      "Column indentation incorrect at line no 10\n"
     ]
    }
   ],
   "source": [
    "lines_select = []\n",
    "reg = r\"\\\"|\\'|\\{|[a-zA-Z]\"\n",
    "for count, i in enumerate(lines):\n",
    "    if i.__contains__(\"as (\"):\n",
    "        lines_select.append([count,lines[count]])\n",
    "  \n",
    "    \n",
    "for i in lines_select:        \n",
    "    match = re.search(reg, i[1])\n",
    "    #print(i[0],match.start())\n",
    "    if(match.start()!=0):\n",
    "        print(\"Column indentation incorrect at line no {}\".format(i[0]))\n",
    "    "
   ]
  },
  {
   "cell_type": "code",
   "execution_count": 16,
   "id": "ab99cc85",
   "metadata": {},
   "outputs": [
    {
     "data": {
      "text/plain": [
       "[[10, ' account as (\\n'],\n",
       " [16, 'subscription as (\\n'],\n",
       " [22, 'dim_mindbody_legacy as (\\n'],\n",
       " [28, 'dim_booker_legacy as (\\n'],\n",
       " [34, 'dim_customer_mindbody_map as (\\n'],\n",
       " [40, 'account_classification as (\\n'],\n",
       " [47, 'core_software_subscription as (\\n'],\n",
       " [74, 'mindbody_legacy as (\\n'],\n",
       " [93, 'booker_legacy as (\\n'],\n",
       " [112, 'customers as (\\n'],\n",
       " [176, 'legacy_mindbody_customers as (\\n'],\n",
       " [189, 'final as (\\n']]"
      ]
     },
     "execution_count": 16,
     "metadata": {},
     "output_type": "execute_result"
    }
   ],
   "source": [
    "lines_select"
   ]
  },
  {
   "cell_type": "code",
   "execution_count": null,
   "id": "fed3f4d0",
   "metadata": {},
   "outputs": [],
   "source": [
    "reg = r\"\\)\\,\"\n",
    "ind = []\n",
    "for count, i in enumerate(lines):\n",
    "    if i.__contains__(\"as (\"):\n",
    "        ix = count\n",
    "        print(lines[ix])\n",
    "        flag = 0\n",
    "        while(flag==0):\n",
    "           # if lines[ix].__contains__(\"),\"):\n",
    "            match = re.search(reg,lines[ix])\n",
    "            print(ix[0],match.start())\n",
    "            ind.append([count,ix])\n",
    "            flag = 1\n",
    "            ix+=1\n",
    "        \n",
    "            "
   ]
  },
  {
   "cell_type": "code",
   "execution_count": null,
   "id": "2cc595b6",
   "metadata": {},
   "outputs": [],
   "source": [
    "ind"
   ]
  },
  {
   "cell_type": "code",
   "execution_count": 34,
   "id": "d4db0228",
   "metadata": {},
   "outputs": [
    {
     "ename": "IndentationError",
     "evalue": "unexpected indent (<ipython-input-34-26d128776df7>, line 2)",
     "output_type": "error",
     "traceback": [
      "\u001b[1;36m  File \u001b[1;32m\"<ipython-input-34-26d128776df7>\"\u001b[1;36m, line \u001b[1;32m2\u001b[0m\n\u001b[1;33m    while(flag==0):\u001b[0m\n\u001b[1;37m    ^\u001b[0m\n\u001b[1;31mIndentationError\u001b[0m\u001b[1;31m:\u001b[0m unexpected indent\n"
     ]
    }
   ],
   "source": [
    "reg = r\"\\)\\,\"\n",
    "match = re.search(reg,lines[ix])\n",
    "            \n",
    "\n",
    "            "
   ]
  },
  {
   "cell_type": "code",
   "execution_count": null,
   "id": "a442edae",
   "metadata": {},
   "outputs": [],
   "source": [
    "lines"
   ]
  },
  {
   "cell_type": "code",
   "execution_count": null,
   "id": "20658cb3",
   "metadata": {},
   "outputs": [],
   "source": []
  }
 ],
 "metadata": {
  "kernelspec": {
   "display_name": "Python 3",
   "language": "python",
   "name": "python3"
  },
  "language_info": {
   "codemirror_mode": {
    "name": "ipython",
    "version": 3
   },
   "file_extension": ".py",
   "mimetype": "text/x-python",
   "name": "python",
   "nbconvert_exporter": "python",
   "pygments_lexer": "ipython3",
   "version": "3.8.8"
  }
 },
 "nbformat": 4,
 "nbformat_minor": 5
}
