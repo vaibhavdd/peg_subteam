{
 "cells": [
  {
   "cell_type": "markdown",
   "id": "9215ae56",
   "metadata": {},
   "source": [
    " If you are needing to only reference one model, do not use CTEs."
   ]
  },
  {
   "cell_type": "code",
   "execution_count": 1,
   "id": "51669166",
   "metadata": {},
   "outputs": [],
   "source": [
    "import numpy as np\n",
    "import pandas as pd\n",
    "import re"
   ]
  },
  {
   "cell_type": "code",
   "execution_count": 2,
   "id": "f89a97e9",
   "metadata": {},
   "outputs": [],
   "source": [
    "with open('dim_customer.sql') as f:\n",
    "    lines = f.readlines()\n",
    "    f.seek(0)\n"
   ]
  },
  {
   "cell_type": "code",
   "execution_count": 5,
   "id": "67b58103",
   "metadata": {},
   "outputs": [
    {
     "data": {
      "text/plain": [
       "['{{\\n',\n",
       " '  config(\\n',\n",
       " \"    materialized = 'table',\\n\",\n",
       " '    tags=[\"dim_customers\",\"customer_objects\"]\\n',\n",
       " '    )\\n',\n",
       " '}}\\n',\n",
       " '\\n',\n",
       " '\\n',\n",
       " 'with\\n',\n",
       " '\\n',\n",
       " 'account as (\\n',\n",
       " '\\n',\n",
       " \"    select * from {{ ref('dim_sfdc_account') }}\\n\",\n",
       " '\\n',\n",
       " ')\\n',\n",
       " '\\n',\n",
       " '\\n',\n",
       " '\\n',\n",
       " 'select * from account\\n']"
      ]
     },
     "execution_count": 5,
     "metadata": {},
     "output_type": "execute_result"
    }
   ],
   "source": [
    "lines\n"
   ]
  },
  {
   "cell_type": "code",
   "execution_count": 10,
   "id": "32de76c9",
   "metadata": {},
   "outputs": [
    {
     "name": "stdout",
     "output_type": "stream",
     "text": [
      "for a single model do not use CTES \n"
     ]
    }
   ],
   "source": [
    "lines_select = []\n",
    "lines_select1= []\n",
    "flag_ref= 0\n",
    "flag_with= 0\n",
    "\n",
    "reg = r\"\\\"|\\'|\\{|[a-zA-Z]\"\n",
    "for count, i in enumerate(lines):\n",
    "    if i.__contains__(\"ref(\"):\n",
    "        lines_select.append([lines[count]])\n",
    "        flag_ref= flag_ref+1\n",
    "    if i.__contains__(\"with\"):\n",
    "        flag_with= flag_with+1\n",
    "        \n",
    "if flag_ref == 1 and flag_with == 1:\n",
    "    print(\"for a single model do not use CTES \")\n",
    "        \n",
    "        \n",
    "        "
   ]
  },
  {
   "cell_type": "code",
   "execution_count": null,
   "id": "3007350e",
   "metadata": {},
   "outputs": [],
   "source": [
    "f"
   ]
  },
  {
   "cell_type": "code",
   "execution_count": null,
   "id": "b085ad57",
   "metadata": {},
   "outputs": [],
   "source": []
  }
 ],
 "metadata": {
  "kernelspec": {
   "display_name": "Python 3",
   "language": "python",
   "name": "python3"
  },
  "language_info": {
   "codemirror_mode": {
    "name": "ipython",
    "version": 3
   },
   "file_extension": ".py",
   "mimetype": "text/x-python",
   "name": "python",
   "nbconvert_exporter": "python",
   "pygments_lexer": "ipython3",
   "version": "3.8.8"
  }
 },
 "nbformat": 4,
 "nbformat_minor": 5
}
